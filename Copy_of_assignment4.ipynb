{
  "cells": [
    {
      "cell_type": "markdown",
      "metadata": {
        "id": "view-in-github",
        "colab_type": "text"
      },
      "source": [
        "<a href=\"https://colab.research.google.com/github/JCDster/IntroToMachineLearning/blob/main/Copy_of_assignment4.ipynb\" target=\"_parent\"><img src=\"https://colab.research.google.com/assets/colab-badge.svg\" alt=\"Open In Colab\"/></a>"
      ]
    },
    {
      "cell_type": "code",
      "source": [
        "!git clone https://www.github.com/DS3001/assignment4"
      ],
      "metadata": {
        "colab": {
          "base_uri": "https://localhost:8080/"
        },
        "id": "SQZ1R-IuU03m",
        "outputId": "dd255cb3-4d0d-4209-ea1f-33da0fcd5714"
      },
      "id": "SQZ1R-IuU03m",
      "execution_count": 50,
      "outputs": [
        {
          "output_type": "stream",
          "name": "stdout",
          "text": [
            "fatal: destination path 'assignment4' already exists and is not an empty directory.\n"
          ]
        }
      ]
    },
    {
      "cell_type": "markdown",
      "id": "e0c7b14a-e5aa-4abc-b48b-b8a9d20dacac",
      "metadata": {
        "id": "e0c7b14a-e5aa-4abc-b48b-b8a9d20dacac"
      },
      "source": [
        "# Assignment #4: Linear Models and Decision Trees\n",
        "## Foundations of Machine Learning\n",
        "## Do Q1 and one other question.\n",
        "### Advice: Reuse your code and code from lectures, package routine tasks into functions, make plans about how you'll carry out the analysis before jumping into writing code, and work as efficiently as possible"
      ]
    },
    {
      "cell_type": "markdown",
      "id": "95f22300-0180-4ed2-be8f-ed56cf4cd36b",
      "metadata": {
        "id": "95f22300-0180-4ed2-be8f-ed56cf4cd36b"
      },
      "source": [
        "**Q1.** This question is a case study for linear models and decision trees. The data are about car prices. In particular, they include:\n",
        "\n",
        "  - `Price`, `Color`, `Seating_Capacity`\n",
        "  - `Body_Type`: crossover, hatchback, muv, sedan, suv\n",
        "  - `Make`, `Make_Year`: The brand of car and year produced\n",
        "  - `Mileage_Run`: The number of miles on the odometer\n",
        "  - `Fuel_Type`: Diesel or gasoline/petrol\n",
        "  - `Transmission`, `Transmission_Type`:  speeds and automatic/manual\n",
        "\n",
        "  1. Load `cars_hw.csv`. These data were really dirty, and I've already cleaned them a significant amount in terms of missing values and other issues, but some issues remain (e.g. outliers, badly scaled variables that require a log or arcsinh transformation). Clean the data however you think is most appropriate.\n",
        "  2. Summarize the `Price` variable and create a kernel density plot. Use `.groupby()` and `.describe()` to summarize prices by brand (`Make`). Make a grouped kernel density plot by `Make`. Which car brands are the most expensive? What do prices look like in general?\n",
        "  3. Split the data into an 80% training set and a 20% testing set.\n",
        "  4. Let's focus on linear models. Make a model where you regress price on the numeric variables alone; what is the $R^2$ and `RMSE` on the test set? Make a second model where, for the categorical variables, make a model comprised of one-hot encoded regressors/features alone, and regress price on those variables; what is the $R^2$ and `RMSE` on the test set? Which model performs better on the test set? Make a third model that combines all the regressors from the previous two; what is the $R^2$ and `RMSE` on the test set? Does the joint model perform better or worse, and by home much?\n",
        "  5. Use the `PolynomialFeatures` function from `sklearn` to expand the set of numerical variables you're using, along with the categorical variables. As you increase the degree of the expansion, how do the $R^2$ and `RMSE` change? At what point does $R^2$ go negative on the test set? For your best model with expanded features, what is the $R^2$ and `RMSE`? How does it compare to your best model from part 3?\n",
        "  6. For your best model so far, determine the predicted values for the test data and plot them against the true values. Do the predicted values and true values roughly line up along the diagonal, or not? Compute the residuals/errors for the test data and create a kernel density plot. Do the residuals look roughly bell-shaped around zero? Evaluate the strengths and weaknesses of your model.\n",
        "  7. Now, let's use a regression tree. Construct an appropriate matrix of regressors/features, and fit a tree to the data. Vary the maximum depth of the decision tree using the `max_depth` option (i.e. `tree.DecisionTreeRegressor(max_depth=D)`), and compute the $R^2$ and `RMSE` on the test set of a variety of depths. What depth tree gives the best results?\n",
        "  8. For your best tree, determine the predicted values for the test data, and plot them against the true values. Do the predicted values and true values line up along the diagonal, or not? Compute the residuals/errors for the test data and create a kernel density plot. Do the residuals look roughly bell-shaped around zero?\n",
        "  12. Which model --- linear model or classification and regression tree --- has better performance on the test set?"
      ]
    },
    {
      "cell_type": "code",
      "source": [
        "#1\n",
        "import pandas as pd\n",
        "import numpy as np\n",
        "import seaborn as sns"
      ],
      "metadata": {
        "id": "MPG7PLS4VGCe"
      },
      "id": "MPG7PLS4VGCe",
      "execution_count": 51,
      "outputs": []
    },
    {
      "cell_type": "code",
      "source": [
        "df = pd.read_csv('./assignment4/data/cars_hw.csv', low_memory=False)"
      ],
      "metadata": {
        "id": "t3dsc2bNXSJ_"
      },
      "id": "t3dsc2bNXSJ_",
      "execution_count": 52,
      "outputs": []
    },
    {
      "cell_type": "code",
      "source": [
        "print( df.shape, '\\n')\n",
        "df.head()"
      ],
      "metadata": {
        "colab": {
          "base_uri": "https://localhost:8080/",
          "height": 278
        },
        "id": "CbmGIrhaXtYg",
        "outputId": "6349aceb-071e-4b23-a322-719d155fc6eb"
      },
      "id": "CbmGIrhaXtYg",
      "execution_count": 53,
      "outputs": [
        {
          "output_type": "stream",
          "name": "stdout",
          "text": [
            "(976, 12) \n",
            "\n"
          ]
        },
        {
          "output_type": "execute_result",
          "data": {
            "text/plain": [
              "   Unnamed: 0        Make  Make_Year   Color  Body_Type  Mileage_Run  \\\n",
              "0           1  Volkswagen       2017  silver      sedan        44611   \n",
              "1           2     Hyundai       2016     red  crossover        20305   \n",
              "2           3       Honda       2019   white        suv        29540   \n",
              "3           4     Renault       2017  bronze  hatchback        35680   \n",
              "4           5     Hyundai       2017  orange  hatchback        25126   \n",
              "\n",
              "  No_of_Owners  Seating_Capacity Fuel_Type Transmission Transmission_Type  \\\n",
              "0          1st                 5    diesel      7-Speed         Automatic   \n",
              "1          1st                 5    petrol      5-Speed            Manual   \n",
              "2          2nd                 5    petrol      5-Speed            Manual   \n",
              "3          1st                 5    petrol      5-Speed            Manual   \n",
              "4          1st                 5    petrol      5-Speed            Manual   \n",
              "\n",
              "    Price  \n",
              "0  657000  \n",
              "1  682000  \n",
              "2  793000  \n",
              "3  414000  \n",
              "4  515000  "
            ],
            "text/html": [
              "\n",
              "  <div id=\"df-1029366d-790c-43dd-b695-b6c9bd7745ef\" class=\"colab-df-container\">\n",
              "    <div>\n",
              "<style scoped>\n",
              "    .dataframe tbody tr th:only-of-type {\n",
              "        vertical-align: middle;\n",
              "    }\n",
              "\n",
              "    .dataframe tbody tr th {\n",
              "        vertical-align: top;\n",
              "    }\n",
              "\n",
              "    .dataframe thead th {\n",
              "        text-align: right;\n",
              "    }\n",
              "</style>\n",
              "<table border=\"1\" class=\"dataframe\">\n",
              "  <thead>\n",
              "    <tr style=\"text-align: right;\">\n",
              "      <th></th>\n",
              "      <th>Unnamed: 0</th>\n",
              "      <th>Make</th>\n",
              "      <th>Make_Year</th>\n",
              "      <th>Color</th>\n",
              "      <th>Body_Type</th>\n",
              "      <th>Mileage_Run</th>\n",
              "      <th>No_of_Owners</th>\n",
              "      <th>Seating_Capacity</th>\n",
              "      <th>Fuel_Type</th>\n",
              "      <th>Transmission</th>\n",
              "      <th>Transmission_Type</th>\n",
              "      <th>Price</th>\n",
              "    </tr>\n",
              "  </thead>\n",
              "  <tbody>\n",
              "    <tr>\n",
              "      <th>0</th>\n",
              "      <td>1</td>\n",
              "      <td>Volkswagen</td>\n",
              "      <td>2017</td>\n",
              "      <td>silver</td>\n",
              "      <td>sedan</td>\n",
              "      <td>44611</td>\n",
              "      <td>1st</td>\n",
              "      <td>5</td>\n",
              "      <td>diesel</td>\n",
              "      <td>7-Speed</td>\n",
              "      <td>Automatic</td>\n",
              "      <td>657000</td>\n",
              "    </tr>\n",
              "    <tr>\n",
              "      <th>1</th>\n",
              "      <td>2</td>\n",
              "      <td>Hyundai</td>\n",
              "      <td>2016</td>\n",
              "      <td>red</td>\n",
              "      <td>crossover</td>\n",
              "      <td>20305</td>\n",
              "      <td>1st</td>\n",
              "      <td>5</td>\n",
              "      <td>petrol</td>\n",
              "      <td>5-Speed</td>\n",
              "      <td>Manual</td>\n",
              "      <td>682000</td>\n",
              "    </tr>\n",
              "    <tr>\n",
              "      <th>2</th>\n",
              "      <td>3</td>\n",
              "      <td>Honda</td>\n",
              "      <td>2019</td>\n",
              "      <td>white</td>\n",
              "      <td>suv</td>\n",
              "      <td>29540</td>\n",
              "      <td>2nd</td>\n",
              "      <td>5</td>\n",
              "      <td>petrol</td>\n",
              "      <td>5-Speed</td>\n",
              "      <td>Manual</td>\n",
              "      <td>793000</td>\n",
              "    </tr>\n",
              "    <tr>\n",
              "      <th>3</th>\n",
              "      <td>4</td>\n",
              "      <td>Renault</td>\n",
              "      <td>2017</td>\n",
              "      <td>bronze</td>\n",
              "      <td>hatchback</td>\n",
              "      <td>35680</td>\n",
              "      <td>1st</td>\n",
              "      <td>5</td>\n",
              "      <td>petrol</td>\n",
              "      <td>5-Speed</td>\n",
              "      <td>Manual</td>\n",
              "      <td>414000</td>\n",
              "    </tr>\n",
              "    <tr>\n",
              "      <th>4</th>\n",
              "      <td>5</td>\n",
              "      <td>Hyundai</td>\n",
              "      <td>2017</td>\n",
              "      <td>orange</td>\n",
              "      <td>hatchback</td>\n",
              "      <td>25126</td>\n",
              "      <td>1st</td>\n",
              "      <td>5</td>\n",
              "      <td>petrol</td>\n",
              "      <td>5-Speed</td>\n",
              "      <td>Manual</td>\n",
              "      <td>515000</td>\n",
              "    </tr>\n",
              "  </tbody>\n",
              "</table>\n",
              "</div>\n",
              "    <div class=\"colab-df-buttons\">\n",
              "\n",
              "  <div class=\"colab-df-container\">\n",
              "    <button class=\"colab-df-convert\" onclick=\"convertToInteractive('df-1029366d-790c-43dd-b695-b6c9bd7745ef')\"\n",
              "            title=\"Convert this dataframe to an interactive table.\"\n",
              "            style=\"display:none;\">\n",
              "\n",
              "  <svg xmlns=\"http://www.w3.org/2000/svg\" height=\"24px\" viewBox=\"0 -960 960 960\">\n",
              "    <path d=\"M120-120v-720h720v720H120Zm60-500h600v-160H180v160Zm220 220h160v-160H400v160Zm0 220h160v-160H400v160ZM180-400h160v-160H180v160Zm440 0h160v-160H620v160ZM180-180h160v-160H180v160Zm440 0h160v-160H620v160Z\"/>\n",
              "  </svg>\n",
              "    </button>\n",
              "\n",
              "  <style>\n",
              "    .colab-df-container {\n",
              "      display:flex;\n",
              "      gap: 12px;\n",
              "    }\n",
              "\n",
              "    .colab-df-convert {\n",
              "      background-color: #E8F0FE;\n",
              "      border: none;\n",
              "      border-radius: 50%;\n",
              "      cursor: pointer;\n",
              "      display: none;\n",
              "      fill: #1967D2;\n",
              "      height: 32px;\n",
              "      padding: 0 0 0 0;\n",
              "      width: 32px;\n",
              "    }\n",
              "\n",
              "    .colab-df-convert:hover {\n",
              "      background-color: #E2EBFA;\n",
              "      box-shadow: 0px 1px 2px rgba(60, 64, 67, 0.3), 0px 1px 3px 1px rgba(60, 64, 67, 0.15);\n",
              "      fill: #174EA6;\n",
              "    }\n",
              "\n",
              "    .colab-df-buttons div {\n",
              "      margin-bottom: 4px;\n",
              "    }\n",
              "\n",
              "    [theme=dark] .colab-df-convert {\n",
              "      background-color: #3B4455;\n",
              "      fill: #D2E3FC;\n",
              "    }\n",
              "\n",
              "    [theme=dark] .colab-df-convert:hover {\n",
              "      background-color: #434B5C;\n",
              "      box-shadow: 0px 1px 3px 1px rgba(0, 0, 0, 0.15);\n",
              "      filter: drop-shadow(0px 1px 2px rgba(0, 0, 0, 0.3));\n",
              "      fill: #FFFFFF;\n",
              "    }\n",
              "  </style>\n",
              "\n",
              "    <script>\n",
              "      const buttonEl =\n",
              "        document.querySelector('#df-1029366d-790c-43dd-b695-b6c9bd7745ef button.colab-df-convert');\n",
              "      buttonEl.style.display =\n",
              "        google.colab.kernel.accessAllowed ? 'block' : 'none';\n",
              "\n",
              "      async function convertToInteractive(key) {\n",
              "        const element = document.querySelector('#df-1029366d-790c-43dd-b695-b6c9bd7745ef');\n",
              "        const dataTable =\n",
              "          await google.colab.kernel.invokeFunction('convertToInteractive',\n",
              "                                                    [key], {});\n",
              "        if (!dataTable) return;\n",
              "\n",
              "        const docLinkHtml = 'Like what you see? Visit the ' +\n",
              "          '<a target=\"_blank\" href=https://colab.research.google.com/notebooks/data_table.ipynb>data table notebook</a>'\n",
              "          + ' to learn more about interactive tables.';\n",
              "        element.innerHTML = '';\n",
              "        dataTable['output_type'] = 'display_data';\n",
              "        await google.colab.output.renderOutput(dataTable, element);\n",
              "        const docLink = document.createElement('div');\n",
              "        docLink.innerHTML = docLinkHtml;\n",
              "        element.appendChild(docLink);\n",
              "      }\n",
              "    </script>\n",
              "  </div>\n",
              "\n",
              "\n",
              "<div id=\"df-64b06565-4eb9-4534-b9db-0a0a5f977fe7\">\n",
              "  <button class=\"colab-df-quickchart\" onclick=\"quickchart('df-64b06565-4eb9-4534-b9db-0a0a5f977fe7')\"\n",
              "            title=\"Suggest charts\"\n",
              "            style=\"display:none;\">\n",
              "\n",
              "<svg xmlns=\"http://www.w3.org/2000/svg\" height=\"24px\"viewBox=\"0 0 24 24\"\n",
              "     width=\"24px\">\n",
              "    <g>\n",
              "        <path d=\"M19 3H5c-1.1 0-2 .9-2 2v14c0 1.1.9 2 2 2h14c1.1 0 2-.9 2-2V5c0-1.1-.9-2-2-2zM9 17H7v-7h2v7zm4 0h-2V7h2v10zm4 0h-2v-4h2v4z\"/>\n",
              "    </g>\n",
              "</svg>\n",
              "  </button>\n",
              "\n",
              "<style>\n",
              "  .colab-df-quickchart {\n",
              "      --bg-color: #E8F0FE;\n",
              "      --fill-color: #1967D2;\n",
              "      --hover-bg-color: #E2EBFA;\n",
              "      --hover-fill-color: #174EA6;\n",
              "      --disabled-fill-color: #AAA;\n",
              "      --disabled-bg-color: #DDD;\n",
              "  }\n",
              "\n",
              "  [theme=dark] .colab-df-quickchart {\n",
              "      --bg-color: #3B4455;\n",
              "      --fill-color: #D2E3FC;\n",
              "      --hover-bg-color: #434B5C;\n",
              "      --hover-fill-color: #FFFFFF;\n",
              "      --disabled-bg-color: #3B4455;\n",
              "      --disabled-fill-color: #666;\n",
              "  }\n",
              "\n",
              "  .colab-df-quickchart {\n",
              "    background-color: var(--bg-color);\n",
              "    border: none;\n",
              "    border-radius: 50%;\n",
              "    cursor: pointer;\n",
              "    display: none;\n",
              "    fill: var(--fill-color);\n",
              "    height: 32px;\n",
              "    padding: 0;\n",
              "    width: 32px;\n",
              "  }\n",
              "\n",
              "  .colab-df-quickchart:hover {\n",
              "    background-color: var(--hover-bg-color);\n",
              "    box-shadow: 0 1px 2px rgba(60, 64, 67, 0.3), 0 1px 3px 1px rgba(60, 64, 67, 0.15);\n",
              "    fill: var(--button-hover-fill-color);\n",
              "  }\n",
              "\n",
              "  .colab-df-quickchart-complete:disabled,\n",
              "  .colab-df-quickchart-complete:disabled:hover {\n",
              "    background-color: var(--disabled-bg-color);\n",
              "    fill: var(--disabled-fill-color);\n",
              "    box-shadow: none;\n",
              "  }\n",
              "\n",
              "  .colab-df-spinner {\n",
              "    border: 2px solid var(--fill-color);\n",
              "    border-color: transparent;\n",
              "    border-bottom-color: var(--fill-color);\n",
              "    animation:\n",
              "      spin 1s steps(1) infinite;\n",
              "  }\n",
              "\n",
              "  @keyframes spin {\n",
              "    0% {\n",
              "      border-color: transparent;\n",
              "      border-bottom-color: var(--fill-color);\n",
              "      border-left-color: var(--fill-color);\n",
              "    }\n",
              "    20% {\n",
              "      border-color: transparent;\n",
              "      border-left-color: var(--fill-color);\n",
              "      border-top-color: var(--fill-color);\n",
              "    }\n",
              "    30% {\n",
              "      border-color: transparent;\n",
              "      border-left-color: var(--fill-color);\n",
              "      border-top-color: var(--fill-color);\n",
              "      border-right-color: var(--fill-color);\n",
              "    }\n",
              "    40% {\n",
              "      border-color: transparent;\n",
              "      border-right-color: var(--fill-color);\n",
              "      border-top-color: var(--fill-color);\n",
              "    }\n",
              "    60% {\n",
              "      border-color: transparent;\n",
              "      border-right-color: var(--fill-color);\n",
              "    }\n",
              "    80% {\n",
              "      border-color: transparent;\n",
              "      border-right-color: var(--fill-color);\n",
              "      border-bottom-color: var(--fill-color);\n",
              "    }\n",
              "    90% {\n",
              "      border-color: transparent;\n",
              "      border-bottom-color: var(--fill-color);\n",
              "    }\n",
              "  }\n",
              "</style>\n",
              "\n",
              "  <script>\n",
              "    async function quickchart(key) {\n",
              "      const quickchartButtonEl =\n",
              "        document.querySelector('#' + key + ' button');\n",
              "      quickchartButtonEl.disabled = true;  // To prevent multiple clicks.\n",
              "      quickchartButtonEl.classList.add('colab-df-spinner');\n",
              "      try {\n",
              "        const charts = await google.colab.kernel.invokeFunction(\n",
              "            'suggestCharts', [key], {});\n",
              "      } catch (error) {\n",
              "        console.error('Error during call to suggestCharts:', error);\n",
              "      }\n",
              "      quickchartButtonEl.classList.remove('colab-df-spinner');\n",
              "      quickchartButtonEl.classList.add('colab-df-quickchart-complete');\n",
              "    }\n",
              "    (() => {\n",
              "      let quickchartButtonEl =\n",
              "        document.querySelector('#df-64b06565-4eb9-4534-b9db-0a0a5f977fe7 button');\n",
              "      quickchartButtonEl.style.display =\n",
              "        google.colab.kernel.accessAllowed ? 'block' : 'none';\n",
              "    })();\n",
              "  </script>\n",
              "</div>\n",
              "    </div>\n",
              "  </div>\n"
            ]
          },
          "metadata": {},
          "execution_count": 53
        }
      ]
    },
    {
      "cell_type": "code",
      "source": [
        "df['Make'].unique()"
      ],
      "metadata": {
        "colab": {
          "base_uri": "https://localhost:8080/"
        },
        "id": "-dPHKUPMX80z",
        "outputId": "9605b2fc-ac22-4010-902d-2a7fc6a41c1c"
      },
      "id": "-dPHKUPMX80z",
      "execution_count": 54,
      "outputs": [
        {
          "output_type": "execute_result",
          "data": {
            "text/plain": [
              "array(['Volkswagen', 'Hyundai', 'Honda', 'Renault', 'Tata', 'Chevrolet',\n",
              "       'Maruti Suzuki', 'Toyota', 'Mahindra', 'Ford', 'Nissan', 'Jeep',\n",
              "       'MG Motors', 'Kia', 'Skoda', 'Datsun'], dtype=object)"
            ]
          },
          "metadata": {},
          "execution_count": 54
        }
      ]
    },
    {
      "cell_type": "code",
      "source": [
        "df['Mileage_Run'].describe()\n",
        "#Min seems like an outlire but it seems valuable"
      ],
      "metadata": {
        "colab": {
          "base_uri": "https://localhost:8080/"
        },
        "id": "p-rNI7M3YTS2",
        "outputId": "688c84f7-7bd1-4e9c-e615-a2db8610c519"
      },
      "id": "p-rNI7M3YTS2",
      "execution_count": 55,
      "outputs": [
        {
          "output_type": "execute_result",
          "data": {
            "text/plain": [
              "count      976.000000\n",
              "mean     41571.195697\n",
              "std      24390.995134\n",
              "min       1117.000000\n",
              "25%      22676.750000\n",
              "50%      37570.500000\n",
              "75%      57421.250000\n",
              "max      99495.000000\n",
              "Name: Mileage_Run, dtype: float64"
            ]
          },
          "metadata": {},
          "execution_count": 55
        }
      ]
    },
    {
      "cell_type": "code",
      "source": [
        "df['No_of_Owners'].unique()\n",
        "#want to convert to numeric"
      ],
      "metadata": {
        "colab": {
          "base_uri": "https://localhost:8080/"
        },
        "id": "mgYqUQX4ZIBU",
        "outputId": "e26961b7-eb6e-40df-d8bc-88ba66adab0c"
      },
      "id": "mgYqUQX4ZIBU",
      "execution_count": 56,
      "outputs": [
        {
          "output_type": "execute_result",
          "data": {
            "text/plain": [
              "array(['1st', '2nd', '3rd'], dtype=object)"
            ]
          },
          "metadata": {},
          "execution_count": 56
        }
      ]
    },
    {
      "cell_type": "code",
      "source": [
        "df[\"No_of_Owners\"] = df[\"No_of_Owners\"].str.replace('1st','1')\n",
        "df[\"No_of_Owners\"] = df[\"No_of_Owners\"].str.replace('2nd','2')\n",
        "df[\"No_of_Owners\"] = df[\"No_of_Owners\"].str.replace('3rd','3')\n",
        "df[\"No_of_Owners\"] = pd.to_numeric(df[\"No_of_Owners\"])"
      ],
      "metadata": {
        "id": "KTaGBsYgqo5P"
      },
      "id": "KTaGBsYgqo5P",
      "execution_count": 57,
      "outputs": []
    },
    {
      "cell_type": "code",
      "source": [
        "df['No_of_Owners'].unique()\n"
      ],
      "metadata": {
        "colab": {
          "base_uri": "https://localhost:8080/"
        },
        "id": "DWsYHGyLrNxG",
        "outputId": "62e44d95-a4ba-4354-fcad-73106a8e75cd"
      },
      "id": "DWsYHGyLrNxG",
      "execution_count": 58,
      "outputs": [
        {
          "output_type": "execute_result",
          "data": {
            "text/plain": [
              "array([1, 2, 3])"
            ]
          },
          "metadata": {},
          "execution_count": 58
        }
      ]
    },
    {
      "cell_type": "code",
      "source": [
        "df['Seating_Capacity'].unique()"
      ],
      "metadata": {
        "colab": {
          "base_uri": "https://localhost:8080/"
        },
        "id": "LLMTpjwyZQKt",
        "outputId": "5519cf90-7eaa-4d72-b7f4-dce22a07d51d"
      },
      "id": "LLMTpjwyZQKt",
      "execution_count": 59,
      "outputs": [
        {
          "output_type": "execute_result",
          "data": {
            "text/plain": [
              "array([5, 7, 8, 6, 4])"
            ]
          },
          "metadata": {},
          "execution_count": 59
        }
      ]
    },
    {
      "cell_type": "code",
      "source": [
        "df['Fuel_Type'].unique()"
      ],
      "metadata": {
        "colab": {
          "base_uri": "https://localhost:8080/"
        },
        "id": "Yi418qgtZXe0",
        "outputId": "c7aeb332-3bb7-4ea1-dd62-6e091d0c2faa"
      },
      "id": "Yi418qgtZXe0",
      "execution_count": 60,
      "outputs": [
        {
          "output_type": "execute_result",
          "data": {
            "text/plain": [
              "array(['diesel', 'petrol', 'petrol+cng'], dtype=object)"
            ]
          },
          "metadata": {},
          "execution_count": 60
        }
      ]
    },
    {
      "cell_type": "code",
      "source": [
        "df['Transmission_Type'].unique()"
      ],
      "metadata": {
        "colab": {
          "base_uri": "https://localhost:8080/"
        },
        "id": "J9vpJb3yZfHj",
        "outputId": "76c1250d-6160-45ca-f46b-9d09447bde4a"
      },
      "id": "J9vpJb3yZfHj",
      "execution_count": 61,
      "outputs": [
        {
          "output_type": "execute_result",
          "data": {
            "text/plain": [
              "array(['Automatic', 'Manual'], dtype=object)"
            ]
          },
          "metadata": {},
          "execution_count": 61
        }
      ]
    },
    {
      "cell_type": "code",
      "source": [
        "df['Price'].unique()\n",
        "#WHY ARE THESE CARS SO EXPENSIVE"
      ],
      "metadata": {
        "colab": {
          "base_uri": "https://localhost:8080/"
        },
        "id": "_1YPoO0mZi-P",
        "outputId": "db0aece5-7290-4a92-c878-bfdc5633aed8"
      },
      "id": "_1YPoO0mZi-P",
      "execution_count": 62,
      "outputs": [
        {
          "output_type": "execute_result",
          "data": {
            "text/plain": [
              "array([ 657000,  682000,  793000,  414000,  515000,  604000,  316000,\n",
              "       1419000,  710000,  392000,  613000,  598000,  969000, 2100000,\n",
              "        666000, 1039000,  858000,  860000,  680000,  625000,  567000,\n",
              "        371000, 1076000,  587000,  396000,  554000,  984000,  507000,\n",
              "        586000,  639000,  237000,  536000,  456000, 1107000,  571000,\n",
              "        629000,  718000,  877000,  774000,  829000,  530000,  367000,\n",
              "        550000,  660000,  998000, 1012000, 1537000,  908000,  508000,\n",
              "        417000,  725000,  980000,  796000,  435000,  481000,  442000,\n",
              "        759000,  455000, 1972000, 1138000,  920000, 1742000,  568000,\n",
              "        419000,  476000,  577000,  541000,  730000, 1875000,  622000,\n",
              "        937000,  609000,  412000,  638000,  807000,  590000,  651000,\n",
              "        694000, 1364000,  783000,  628000,  885000,  724000,  470000,\n",
              "       1085000,  620000,  659000,  953000, 1173000,  457000,  461000,\n",
              "        471000,  902000,  791000,  506000,  594000,  362000,  914000,\n",
              "        544000,  513000,  737000,  664000, 1027000,  575000,  842000,\n",
              "        742000, 1071000, 1044000, 1649000,  626000,  320000,  579000,\n",
              "        608000,  773000,  615000,  519000,  869000, 1399000,  356000,\n",
              "        562000,  522000,  699000,  510000,  512000,  658000,  369000,\n",
              "        966000,  932000,  388000,  489000,  926000, 1709000, 1770000,\n",
              "       1163000, 1349000, 1705000,  739000,  600000,  950000,  748000,\n",
              "        820000,  645000,  570000, 1764000,  677000,  837000, 1826000,\n",
              "       1290000, 1559000,  523000,  942000,  711000,  974000,  273000,\n",
              "        304000,  361000,  365000,  616000,  690000,  749000,  619000,\n",
              "        547000,  686000,  679000,  400000,  612000, 1644000,  342000,\n",
              "        790000,  360000,  276000,  352000,  363000,  333000,  589000,\n",
              "        735000, 1117000,  678000,  857000,  483000,  248000, 1500000,\n",
              "        336000, 1099000, 1078000,  348000,  501000, 1013000, 1741000,\n",
              "        496000,  269000,  927000,  451000,  532000,  338000, 1032000,\n",
              "        557000,  653000,  898000,  912000,  642000,  503000,  330000,\n",
              "        395000, 1235000,  808000,  458000,  514000, 2941000, 1346000,\n",
              "        844000,  789000,  454000,  618000,  548000,  621000,  267000,\n",
              "        368000, 1137000,  982000,  611000,  941000,  534000,  584000,\n",
              "        827000,  681000,  580000,  746000,  452000,  239000,  453000,\n",
              "        521000,  780000,  698000,  426000,  989000,  940000,  556000,\n",
              "        785000, 1077000,  464000,  574000,  655000,  488000,  528000,\n",
              "        527000,  952000,  340000,  765000,  420000,  800000,  486000,\n",
              "       1465000,  892000,  403000,  806000,  634000,  654000,  882000,\n",
              "       1196000,  669000, 1912000,  812000,  883000, 1112000,  810000,\n",
              "        498000,  380000, 1092000,  813000,  502000,  391000,  433000,\n",
              "        372000,  384000,  784000,  971000,  539000,  415000,  894000,\n",
              "        986000,  637000,  688000,  816000,  644000, 1086000,  674000,\n",
              "        350000, 1213000,  275000,  533000,  824000,  805000, 1098000,\n",
              "        795000,  406000,  720000,  732000,  284000,  605000, 1104000,\n",
              "        633000, 1848000,  943000,  709000,  402000,  646000,  334000,\n",
              "        487000,  410000,  766000, 1647000,  311000,  436000,  870000,\n",
              "        323000,  702000,  472000,  353000,  977000,  358000,  399000,\n",
              "        836000,  803000, 1266000,  343000,  300000,  484000, 1001000,\n",
              "        482000,  581000, 1176000, 1274000,  815000, 1064000,  389000,\n",
              "        715000,  847000,  317000,  729000,  949000,  281000,  713000,\n",
              "        445000,  447000,  524000, 1047000,  444000,  906000,  684000,\n",
              "        551000, 1549000,  308000,  848000,  787000,  606000,  859000,\n",
              "        663000,  407000,  485000, 1464000,  691000,  788000,  755000,\n",
              "       1277000,  301000,  262000, 1023000,  635000, 1015000,  255000,\n",
              "       1011000,  661000,  450000,  772000,  331000,  830000,  405000,\n",
              "        347000,  768000,  578000,  349000,  576000,  423000,  643000,\n",
              "        425000, 1369000, 1610000,  429000,  408000,  754000,  701000,\n",
              "        271000,  293000,  387000,  448000, 1051000, 1822000, 1589000,\n",
              "        863000,  315000,  734000, 1054000,  449000,  538000,  995000,\n",
              "        752000,  266000,  477000, 1422000,  430000, 1700000,  593000,\n",
              "        499000,  728000,  287000,  373000,  404000,  318000,  727000,\n",
              "       1150000,  610000,  290000,  542000, 1720000,  745000, 1052000,\n",
              "        854000,  460000,  689000, 1458000,  814000, 1774000,  314000,\n",
              "       2019000,  876000, 1100000,  411000,  738000,  422000, 1958000,\n",
              "       1019000, 1978000,  878000,  708000,  326000,  335000,  439000,\n",
              "       1066000, 1984000,  328000, 1055000,  555000,  434000,  569000,\n",
              "        428000, 1164000, 1178000, 1240000,  833000, 1171000,  840000,\n",
              "        706000,  603000,  764000, 1030000,  511000,  563000,  465000,\n",
              "       1708000,  751000,  306000,  771000,  823000,  614000,  843000,\n",
              "        427000,  549000,  525000,  744000,  881000,  834000,  916000,\n",
              "        880000,  871000, 1366000,  799000,  540000,  822000, 1165000,\n",
              "        770000,  390000,  792000, 1238000,  769000, 1185000,  466000,\n",
              "       1454000, 1411000,  559000,  999000,  495000,  761000,  647000,\n",
              "        446000, 1034000,  763000,  526000,  726000,  517000,  573000,\n",
              "        955000,  274000,  896000,  978000, 1106000,  994000,  809000,\n",
              "        607000,  997000, 1026000,  490000,  862000,  505000, 1166000,\n",
              "        459000,  245000, 1091000,  529000,  722000,  279000, 1130000,\n",
              "       1043000,  401000,  915000,  700000,  319000,  520000,  662000,\n",
              "        936000,  543000,  617000,  469000, 1132000,  760000, 1448000,\n",
              "        475000, 1314000, 1127000,  565000,  553000,  831000,  776000,\n",
              "        443000, 1299000, 1212000, 1699000,  911000,  707000,  545000,\n",
              "        667000,  188000,  907000,  731000,  758000,  332000,  753000,\n",
              "        305000,  945000, 1799000, 1685000,  627000,  935000,  910000,\n",
              "        650000,  954000,  963000, 1040000, 1152000,  596000,  845000,\n",
              "       1063000,  838000,  956000,  736000])"
            ]
          },
          "metadata": {},
          "execution_count": 62
        }
      ]
    },
    {
      "cell_type": "code",
      "source": [
        "df['Price'].describe()\n",
        "#looks expensive again, assuming price is in cents"
      ],
      "metadata": {
        "colab": {
          "base_uri": "https://localhost:8080/"
        },
        "id": "2RHTt2kcZn5q",
        "outputId": "0014518b-4a4b-43a5-f548-0db222129316"
      },
      "id": "2RHTt2kcZn5q",
      "execution_count": 63,
      "outputs": [
        {
          "output_type": "execute_result",
          "data": {
            "text/plain": [
              "count    9.760000e+02\n",
              "mean     7.410195e+05\n",
              "std      3.673234e+05\n",
              "min      1.880000e+05\n",
              "25%      4.757500e+05\n",
              "50%      6.665000e+05\n",
              "75%      8.830000e+05\n",
              "max      2.941000e+06\n",
              "Name: Price, dtype: float64"
            ]
          },
          "metadata": {},
          "execution_count": 63
        }
      ]
    },
    {
      "cell_type": "code",
      "source": [
        "import math\n",
        "\n",
        "df['Price'] = df['Price'].apply(lambda x: math.log10(x))\n",
        "#account for this and turn it into dollars"
      ],
      "metadata": {
        "id": "-LaoY75TcXuY"
      },
      "id": "-LaoY75TcXuY",
      "execution_count": 64,
      "outputs": []
    },
    {
      "cell_type": "code",
      "source": [
        "df[\"Unnamed: 0\"].unique()\n",
        "#seems to just be a ID num\n",
        "df = df.rename(columns={\"Unnamed: 0\" : \"ID_Number\"})"
      ],
      "metadata": {
        "id": "SjyvGkwhZ1m0"
      },
      "id": "SjyvGkwhZ1m0",
      "execution_count": 65,
      "outputs": []
    },
    {
      "cell_type": "code",
      "source": [
        "df.head()"
      ],
      "metadata": {
        "colab": {
          "base_uri": "https://localhost:8080/",
          "height": 226
        },
        "id": "uoguiW-5aXIp",
        "outputId": "d7735f2e-ddba-46b7-c8d9-f19c822e3ce3"
      },
      "id": "uoguiW-5aXIp",
      "execution_count": 66,
      "outputs": [
        {
          "output_type": "execute_result",
          "data": {
            "text/plain": [
              "   ID_Number        Make  Make_Year   Color  Body_Type  Mileage_Run  \\\n",
              "0          1  Volkswagen       2017  silver      sedan        44611   \n",
              "1          2     Hyundai       2016     red  crossover        20305   \n",
              "2          3       Honda       2019   white        suv        29540   \n",
              "3          4     Renault       2017  bronze  hatchback        35680   \n",
              "4          5     Hyundai       2017  orange  hatchback        25126   \n",
              "\n",
              "   No_of_Owners  Seating_Capacity Fuel_Type Transmission Transmission_Type  \\\n",
              "0             1                 5    diesel      7-Speed         Automatic   \n",
              "1             1                 5    petrol      5-Speed            Manual   \n",
              "2             2                 5    petrol      5-Speed            Manual   \n",
              "3             1                 5    petrol      5-Speed            Manual   \n",
              "4             1                 5    petrol      5-Speed            Manual   \n",
              "\n",
              "      Price  \n",
              "0  5.817565  \n",
              "1  5.833784  \n",
              "2  5.899273  \n",
              "3  5.617000  \n",
              "4  5.711807  "
            ],
            "text/html": [
              "\n",
              "  <div id=\"df-f33be4b1-c37d-4877-8b0c-3d6510bbed98\" class=\"colab-df-container\">\n",
              "    <div>\n",
              "<style scoped>\n",
              "    .dataframe tbody tr th:only-of-type {\n",
              "        vertical-align: middle;\n",
              "    }\n",
              "\n",
              "    .dataframe tbody tr th {\n",
              "        vertical-align: top;\n",
              "    }\n",
              "\n",
              "    .dataframe thead th {\n",
              "        text-align: right;\n",
              "    }\n",
              "</style>\n",
              "<table border=\"1\" class=\"dataframe\">\n",
              "  <thead>\n",
              "    <tr style=\"text-align: right;\">\n",
              "      <th></th>\n",
              "      <th>ID_Number</th>\n",
              "      <th>Make</th>\n",
              "      <th>Make_Year</th>\n",
              "      <th>Color</th>\n",
              "      <th>Body_Type</th>\n",
              "      <th>Mileage_Run</th>\n",
              "      <th>No_of_Owners</th>\n",
              "      <th>Seating_Capacity</th>\n",
              "      <th>Fuel_Type</th>\n",
              "      <th>Transmission</th>\n",
              "      <th>Transmission_Type</th>\n",
              "      <th>Price</th>\n",
              "    </tr>\n",
              "  </thead>\n",
              "  <tbody>\n",
              "    <tr>\n",
              "      <th>0</th>\n",
              "      <td>1</td>\n",
              "      <td>Volkswagen</td>\n",
              "      <td>2017</td>\n",
              "      <td>silver</td>\n",
              "      <td>sedan</td>\n",
              "      <td>44611</td>\n",
              "      <td>1</td>\n",
              "      <td>5</td>\n",
              "      <td>diesel</td>\n",
              "      <td>7-Speed</td>\n",
              "      <td>Automatic</td>\n",
              "      <td>5.817565</td>\n",
              "    </tr>\n",
              "    <tr>\n",
              "      <th>1</th>\n",
              "      <td>2</td>\n",
              "      <td>Hyundai</td>\n",
              "      <td>2016</td>\n",
              "      <td>red</td>\n",
              "      <td>crossover</td>\n",
              "      <td>20305</td>\n",
              "      <td>1</td>\n",
              "      <td>5</td>\n",
              "      <td>petrol</td>\n",
              "      <td>5-Speed</td>\n",
              "      <td>Manual</td>\n",
              "      <td>5.833784</td>\n",
              "    </tr>\n",
              "    <tr>\n",
              "      <th>2</th>\n",
              "      <td>3</td>\n",
              "      <td>Honda</td>\n",
              "      <td>2019</td>\n",
              "      <td>white</td>\n",
              "      <td>suv</td>\n",
              "      <td>29540</td>\n",
              "      <td>2</td>\n",
              "      <td>5</td>\n",
              "      <td>petrol</td>\n",
              "      <td>5-Speed</td>\n",
              "      <td>Manual</td>\n",
              "      <td>5.899273</td>\n",
              "    </tr>\n",
              "    <tr>\n",
              "      <th>3</th>\n",
              "      <td>4</td>\n",
              "      <td>Renault</td>\n",
              "      <td>2017</td>\n",
              "      <td>bronze</td>\n",
              "      <td>hatchback</td>\n",
              "      <td>35680</td>\n",
              "      <td>1</td>\n",
              "      <td>5</td>\n",
              "      <td>petrol</td>\n",
              "      <td>5-Speed</td>\n",
              "      <td>Manual</td>\n",
              "      <td>5.617000</td>\n",
              "    </tr>\n",
              "    <tr>\n",
              "      <th>4</th>\n",
              "      <td>5</td>\n",
              "      <td>Hyundai</td>\n",
              "      <td>2017</td>\n",
              "      <td>orange</td>\n",
              "      <td>hatchback</td>\n",
              "      <td>25126</td>\n",
              "      <td>1</td>\n",
              "      <td>5</td>\n",
              "      <td>petrol</td>\n",
              "      <td>5-Speed</td>\n",
              "      <td>Manual</td>\n",
              "      <td>5.711807</td>\n",
              "    </tr>\n",
              "  </tbody>\n",
              "</table>\n",
              "</div>\n",
              "    <div class=\"colab-df-buttons\">\n",
              "\n",
              "  <div class=\"colab-df-container\">\n",
              "    <button class=\"colab-df-convert\" onclick=\"convertToInteractive('df-f33be4b1-c37d-4877-8b0c-3d6510bbed98')\"\n",
              "            title=\"Convert this dataframe to an interactive table.\"\n",
              "            style=\"display:none;\">\n",
              "\n",
              "  <svg xmlns=\"http://www.w3.org/2000/svg\" height=\"24px\" viewBox=\"0 -960 960 960\">\n",
              "    <path d=\"M120-120v-720h720v720H120Zm60-500h600v-160H180v160Zm220 220h160v-160H400v160Zm0 220h160v-160H400v160ZM180-400h160v-160H180v160Zm440 0h160v-160H620v160ZM180-180h160v-160H180v160Zm440 0h160v-160H620v160Z\"/>\n",
              "  </svg>\n",
              "    </button>\n",
              "\n",
              "  <style>\n",
              "    .colab-df-container {\n",
              "      display:flex;\n",
              "      gap: 12px;\n",
              "    }\n",
              "\n",
              "    .colab-df-convert {\n",
              "      background-color: #E8F0FE;\n",
              "      border: none;\n",
              "      border-radius: 50%;\n",
              "      cursor: pointer;\n",
              "      display: none;\n",
              "      fill: #1967D2;\n",
              "      height: 32px;\n",
              "      padding: 0 0 0 0;\n",
              "      width: 32px;\n",
              "    }\n",
              "\n",
              "    .colab-df-convert:hover {\n",
              "      background-color: #E2EBFA;\n",
              "      box-shadow: 0px 1px 2px rgba(60, 64, 67, 0.3), 0px 1px 3px 1px rgba(60, 64, 67, 0.15);\n",
              "      fill: #174EA6;\n",
              "    }\n",
              "\n",
              "    .colab-df-buttons div {\n",
              "      margin-bottom: 4px;\n",
              "    }\n",
              "\n",
              "    [theme=dark] .colab-df-convert {\n",
              "      background-color: #3B4455;\n",
              "      fill: #D2E3FC;\n",
              "    }\n",
              "\n",
              "    [theme=dark] .colab-df-convert:hover {\n",
              "      background-color: #434B5C;\n",
              "      box-shadow: 0px 1px 3px 1px rgba(0, 0, 0, 0.15);\n",
              "      filter: drop-shadow(0px 1px 2px rgba(0, 0, 0, 0.3));\n",
              "      fill: #FFFFFF;\n",
              "    }\n",
              "  </style>\n",
              "\n",
              "    <script>\n",
              "      const buttonEl =\n",
              "        document.querySelector('#df-f33be4b1-c37d-4877-8b0c-3d6510bbed98 button.colab-df-convert');\n",
              "      buttonEl.style.display =\n",
              "        google.colab.kernel.accessAllowed ? 'block' : 'none';\n",
              "\n",
              "      async function convertToInteractive(key) {\n",
              "        const element = document.querySelector('#df-f33be4b1-c37d-4877-8b0c-3d6510bbed98');\n",
              "        const dataTable =\n",
              "          await google.colab.kernel.invokeFunction('convertToInteractive',\n",
              "                                                    [key], {});\n",
              "        if (!dataTable) return;\n",
              "\n",
              "        const docLinkHtml = 'Like what you see? Visit the ' +\n",
              "          '<a target=\"_blank\" href=https://colab.research.google.com/notebooks/data_table.ipynb>data table notebook</a>'\n",
              "          + ' to learn more about interactive tables.';\n",
              "        element.innerHTML = '';\n",
              "        dataTable['output_type'] = 'display_data';\n",
              "        await google.colab.output.renderOutput(dataTable, element);\n",
              "        const docLink = document.createElement('div');\n",
              "        docLink.innerHTML = docLinkHtml;\n",
              "        element.appendChild(docLink);\n",
              "      }\n",
              "    </script>\n",
              "  </div>\n",
              "\n",
              "\n",
              "<div id=\"df-3fbf2067-5c66-4801-8276-27e45c1e3804\">\n",
              "  <button class=\"colab-df-quickchart\" onclick=\"quickchart('df-3fbf2067-5c66-4801-8276-27e45c1e3804')\"\n",
              "            title=\"Suggest charts\"\n",
              "            style=\"display:none;\">\n",
              "\n",
              "<svg xmlns=\"http://www.w3.org/2000/svg\" height=\"24px\"viewBox=\"0 0 24 24\"\n",
              "     width=\"24px\">\n",
              "    <g>\n",
              "        <path d=\"M19 3H5c-1.1 0-2 .9-2 2v14c0 1.1.9 2 2 2h14c1.1 0 2-.9 2-2V5c0-1.1-.9-2-2-2zM9 17H7v-7h2v7zm4 0h-2V7h2v10zm4 0h-2v-4h2v4z\"/>\n",
              "    </g>\n",
              "</svg>\n",
              "  </button>\n",
              "\n",
              "<style>\n",
              "  .colab-df-quickchart {\n",
              "      --bg-color: #E8F0FE;\n",
              "      --fill-color: #1967D2;\n",
              "      --hover-bg-color: #E2EBFA;\n",
              "      --hover-fill-color: #174EA6;\n",
              "      --disabled-fill-color: #AAA;\n",
              "      --disabled-bg-color: #DDD;\n",
              "  }\n",
              "\n",
              "  [theme=dark] .colab-df-quickchart {\n",
              "      --bg-color: #3B4455;\n",
              "      --fill-color: #D2E3FC;\n",
              "      --hover-bg-color: #434B5C;\n",
              "      --hover-fill-color: #FFFFFF;\n",
              "      --disabled-bg-color: #3B4455;\n",
              "      --disabled-fill-color: #666;\n",
              "  }\n",
              "\n",
              "  .colab-df-quickchart {\n",
              "    background-color: var(--bg-color);\n",
              "    border: none;\n",
              "    border-radius: 50%;\n",
              "    cursor: pointer;\n",
              "    display: none;\n",
              "    fill: var(--fill-color);\n",
              "    height: 32px;\n",
              "    padding: 0;\n",
              "    width: 32px;\n",
              "  }\n",
              "\n",
              "  .colab-df-quickchart:hover {\n",
              "    background-color: var(--hover-bg-color);\n",
              "    box-shadow: 0 1px 2px rgba(60, 64, 67, 0.3), 0 1px 3px 1px rgba(60, 64, 67, 0.15);\n",
              "    fill: var(--button-hover-fill-color);\n",
              "  }\n",
              "\n",
              "  .colab-df-quickchart-complete:disabled,\n",
              "  .colab-df-quickchart-complete:disabled:hover {\n",
              "    background-color: var(--disabled-bg-color);\n",
              "    fill: var(--disabled-fill-color);\n",
              "    box-shadow: none;\n",
              "  }\n",
              "\n",
              "  .colab-df-spinner {\n",
              "    border: 2px solid var(--fill-color);\n",
              "    border-color: transparent;\n",
              "    border-bottom-color: var(--fill-color);\n",
              "    animation:\n",
              "      spin 1s steps(1) infinite;\n",
              "  }\n",
              "\n",
              "  @keyframes spin {\n",
              "    0% {\n",
              "      border-color: transparent;\n",
              "      border-bottom-color: var(--fill-color);\n",
              "      border-left-color: var(--fill-color);\n",
              "    }\n",
              "    20% {\n",
              "      border-color: transparent;\n",
              "      border-left-color: var(--fill-color);\n",
              "      border-top-color: var(--fill-color);\n",
              "    }\n",
              "    30% {\n",
              "      border-color: transparent;\n",
              "      border-left-color: var(--fill-color);\n",
              "      border-top-color: var(--fill-color);\n",
              "      border-right-color: var(--fill-color);\n",
              "    }\n",
              "    40% {\n",
              "      border-color: transparent;\n",
              "      border-right-color: var(--fill-color);\n",
              "      border-top-color: var(--fill-color);\n",
              "    }\n",
              "    60% {\n",
              "      border-color: transparent;\n",
              "      border-right-color: var(--fill-color);\n",
              "    }\n",
              "    80% {\n",
              "      border-color: transparent;\n",
              "      border-right-color: var(--fill-color);\n",
              "      border-bottom-color: var(--fill-color);\n",
              "    }\n",
              "    90% {\n",
              "      border-color: transparent;\n",
              "      border-bottom-color: var(--fill-color);\n",
              "    }\n",
              "  }\n",
              "</style>\n",
              "\n",
              "  <script>\n",
              "    async function quickchart(key) {\n",
              "      const quickchartButtonEl =\n",
              "        document.querySelector('#' + key + ' button');\n",
              "      quickchartButtonEl.disabled = true;  // To prevent multiple clicks.\n",
              "      quickchartButtonEl.classList.add('colab-df-spinner');\n",
              "      try {\n",
              "        const charts = await google.colab.kernel.invokeFunction(\n",
              "            'suggestCharts', [key], {});\n",
              "      } catch (error) {\n",
              "        console.error('Error during call to suggestCharts:', error);\n",
              "      }\n",
              "      quickchartButtonEl.classList.remove('colab-df-spinner');\n",
              "      quickchartButtonEl.classList.add('colab-df-quickchart-complete');\n",
              "    }\n",
              "    (() => {\n",
              "      let quickchartButtonEl =\n",
              "        document.querySelector('#df-3fbf2067-5c66-4801-8276-27e45c1e3804 button');\n",
              "      quickchartButtonEl.style.display =\n",
              "        google.colab.kernel.accessAllowed ? 'block' : 'none';\n",
              "    })();\n",
              "  </script>\n",
              "</div>\n",
              "    </div>\n",
              "  </div>\n"
            ]
          },
          "metadata": {},
          "execution_count": 66
        }
      ]
    },
    {
      "cell_type": "code",
      "source": [
        "#2\n",
        "df.groupby(\"Make\")[\"Price\"].describe()"
      ],
      "metadata": {
        "colab": {
          "base_uri": "https://localhost:8080/",
          "height": 582
        },
        "id": "iMrTyjwPaZ9m",
        "outputId": "2a0585b1-ca66-481a-d202-a508f5fc8a79"
      },
      "id": "iMrTyjwPaZ9m",
      "execution_count": 67,
      "outputs": [
        {
          "output_type": "execute_result",
          "data": {
            "text/plain": [
              "               count      mean       std       min       25%       50%  \\\n",
              "Make                                                                     \n",
              "Chevrolet        6.0  5.611039  0.208885  5.426511  5.458383  5.538247   \n",
              "Datsun           3.0  5.461708  0.015770  5.445604  5.454001  5.462398   \n",
              "Ford            52.0  5.849200  0.091590  5.462398  5.802774  5.849726   \n",
              "Honda           73.0  5.878748  0.146345  5.499687  5.764176  5.894870   \n",
              "Hyundai        305.0  5.805870  0.173189  5.394452  5.685742  5.804821   \n",
              "Jeep             4.0  6.174187  0.045637  6.110590  6.159716  6.184469   \n",
              "Kia              8.0  6.207014  0.033387  6.136403  6.198356  6.211760   \n",
              "MG Motors       35.0  6.270801  0.028778  6.201124  6.251992  6.266702   \n",
              "Mahindra        18.0  6.036239  0.069446  5.900913  6.015764  6.039160   \n",
              "Maruti Suzuki  293.0  5.740562  0.161301  5.374748  5.613842  5.721811   \n",
              "Nissan           4.0  5.924295  0.170508  5.676694  5.879381  5.988366   \n",
              "Renault         68.0  5.798206  0.144063  5.457882  5.676691  5.808860   \n",
              "Skoda            5.0  5.924152  0.359182  5.639486  5.668386  5.730782   \n",
              "Tata            23.0  5.955656  0.267130  5.274158  5.891805  5.939020   \n",
              "Toyota          50.0  5.878396  0.156395  5.565848  5.720272  5.951338   \n",
              "Volkswagen      29.0  5.773833  0.088526  5.604226  5.733999  5.783189   \n",
              "\n",
              "                    75%       max  \n",
              "Make                               \n",
              "Chevrolet      5.720388  5.950365  \n",
              "Datsun         5.469760  5.477121  \n",
              "Ford           5.895975  6.027757  \n",
              "Honda          5.961421  6.186674  \n",
              "Hyundai        5.922725  6.241048  \n",
              "Jeep           6.198940  6.217221  \n",
              "Kia            6.231915  6.240799  \n",
              "MG Motors      6.296226  6.305136  \n",
              "Mahindra       6.063294  6.165838  \n",
              "Maruti Suzuki  5.883093  6.065580  \n",
              "Nissan         6.033281  6.043755  \n",
              "Renault        5.903628  6.065953  \n",
              "Skoda          6.113609  6.468495  \n",
              "Tata           6.189291  6.322219  \n",
              "Toyota         6.009866  6.038223  \n",
              "Volkswagen     5.844477  5.897627  "
            ],
            "text/html": [
              "\n",
              "  <div id=\"df-4ab26658-e9cd-42cb-a056-0d6dc990f6b8\" class=\"colab-df-container\">\n",
              "    <div>\n",
              "<style scoped>\n",
              "    .dataframe tbody tr th:only-of-type {\n",
              "        vertical-align: middle;\n",
              "    }\n",
              "\n",
              "    .dataframe tbody tr th {\n",
              "        vertical-align: top;\n",
              "    }\n",
              "\n",
              "    .dataframe thead th {\n",
              "        text-align: right;\n",
              "    }\n",
              "</style>\n",
              "<table border=\"1\" class=\"dataframe\">\n",
              "  <thead>\n",
              "    <tr style=\"text-align: right;\">\n",
              "      <th></th>\n",
              "      <th>count</th>\n",
              "      <th>mean</th>\n",
              "      <th>std</th>\n",
              "      <th>min</th>\n",
              "      <th>25%</th>\n",
              "      <th>50%</th>\n",
              "      <th>75%</th>\n",
              "      <th>max</th>\n",
              "    </tr>\n",
              "    <tr>\n",
              "      <th>Make</th>\n",
              "      <th></th>\n",
              "      <th></th>\n",
              "      <th></th>\n",
              "      <th></th>\n",
              "      <th></th>\n",
              "      <th></th>\n",
              "      <th></th>\n",
              "      <th></th>\n",
              "    </tr>\n",
              "  </thead>\n",
              "  <tbody>\n",
              "    <tr>\n",
              "      <th>Chevrolet</th>\n",
              "      <td>6.0</td>\n",
              "      <td>5.611039</td>\n",
              "      <td>0.208885</td>\n",
              "      <td>5.426511</td>\n",
              "      <td>5.458383</td>\n",
              "      <td>5.538247</td>\n",
              "      <td>5.720388</td>\n",
              "      <td>5.950365</td>\n",
              "    </tr>\n",
              "    <tr>\n",
              "      <th>Datsun</th>\n",
              "      <td>3.0</td>\n",
              "      <td>5.461708</td>\n",
              "      <td>0.015770</td>\n",
              "      <td>5.445604</td>\n",
              "      <td>5.454001</td>\n",
              "      <td>5.462398</td>\n",
              "      <td>5.469760</td>\n",
              "      <td>5.477121</td>\n",
              "    </tr>\n",
              "    <tr>\n",
              "      <th>Ford</th>\n",
              "      <td>52.0</td>\n",
              "      <td>5.849200</td>\n",
              "      <td>0.091590</td>\n",
              "      <td>5.462398</td>\n",
              "      <td>5.802774</td>\n",
              "      <td>5.849726</td>\n",
              "      <td>5.895975</td>\n",
              "      <td>6.027757</td>\n",
              "    </tr>\n",
              "    <tr>\n",
              "      <th>Honda</th>\n",
              "      <td>73.0</td>\n",
              "      <td>5.878748</td>\n",
              "      <td>0.146345</td>\n",
              "      <td>5.499687</td>\n",
              "      <td>5.764176</td>\n",
              "      <td>5.894870</td>\n",
              "      <td>5.961421</td>\n",
              "      <td>6.186674</td>\n",
              "    </tr>\n",
              "    <tr>\n",
              "      <th>Hyundai</th>\n",
              "      <td>305.0</td>\n",
              "      <td>5.805870</td>\n",
              "      <td>0.173189</td>\n",
              "      <td>5.394452</td>\n",
              "      <td>5.685742</td>\n",
              "      <td>5.804821</td>\n",
              "      <td>5.922725</td>\n",
              "      <td>6.241048</td>\n",
              "    </tr>\n",
              "    <tr>\n",
              "      <th>Jeep</th>\n",
              "      <td>4.0</td>\n",
              "      <td>6.174187</td>\n",
              "      <td>0.045637</td>\n",
              "      <td>6.110590</td>\n",
              "      <td>6.159716</td>\n",
              "      <td>6.184469</td>\n",
              "      <td>6.198940</td>\n",
              "      <td>6.217221</td>\n",
              "    </tr>\n",
              "    <tr>\n",
              "      <th>Kia</th>\n",
              "      <td>8.0</td>\n",
              "      <td>6.207014</td>\n",
              "      <td>0.033387</td>\n",
              "      <td>6.136403</td>\n",
              "      <td>6.198356</td>\n",
              "      <td>6.211760</td>\n",
              "      <td>6.231915</td>\n",
              "      <td>6.240799</td>\n",
              "    </tr>\n",
              "    <tr>\n",
              "      <th>MG Motors</th>\n",
              "      <td>35.0</td>\n",
              "      <td>6.270801</td>\n",
              "      <td>0.028778</td>\n",
              "      <td>6.201124</td>\n",
              "      <td>6.251992</td>\n",
              "      <td>6.266702</td>\n",
              "      <td>6.296226</td>\n",
              "      <td>6.305136</td>\n",
              "    </tr>\n",
              "    <tr>\n",
              "      <th>Mahindra</th>\n",
              "      <td>18.0</td>\n",
              "      <td>6.036239</td>\n",
              "      <td>0.069446</td>\n",
              "      <td>5.900913</td>\n",
              "      <td>6.015764</td>\n",
              "      <td>6.039160</td>\n",
              "      <td>6.063294</td>\n",
              "      <td>6.165838</td>\n",
              "    </tr>\n",
              "    <tr>\n",
              "      <th>Maruti Suzuki</th>\n",
              "      <td>293.0</td>\n",
              "      <td>5.740562</td>\n",
              "      <td>0.161301</td>\n",
              "      <td>5.374748</td>\n",
              "      <td>5.613842</td>\n",
              "      <td>5.721811</td>\n",
              "      <td>5.883093</td>\n",
              "      <td>6.065580</td>\n",
              "    </tr>\n",
              "    <tr>\n",
              "      <th>Nissan</th>\n",
              "      <td>4.0</td>\n",
              "      <td>5.924295</td>\n",
              "      <td>0.170508</td>\n",
              "      <td>5.676694</td>\n",
              "      <td>5.879381</td>\n",
              "      <td>5.988366</td>\n",
              "      <td>6.033281</td>\n",
              "      <td>6.043755</td>\n",
              "    </tr>\n",
              "    <tr>\n",
              "      <th>Renault</th>\n",
              "      <td>68.0</td>\n",
              "      <td>5.798206</td>\n",
              "      <td>0.144063</td>\n",
              "      <td>5.457882</td>\n",
              "      <td>5.676691</td>\n",
              "      <td>5.808860</td>\n",
              "      <td>5.903628</td>\n",
              "      <td>6.065953</td>\n",
              "    </tr>\n",
              "    <tr>\n",
              "      <th>Skoda</th>\n",
              "      <td>5.0</td>\n",
              "      <td>5.924152</td>\n",
              "      <td>0.359182</td>\n",
              "      <td>5.639486</td>\n",
              "      <td>5.668386</td>\n",
              "      <td>5.730782</td>\n",
              "      <td>6.113609</td>\n",
              "      <td>6.468495</td>\n",
              "    </tr>\n",
              "    <tr>\n",
              "      <th>Tata</th>\n",
              "      <td>23.0</td>\n",
              "      <td>5.955656</td>\n",
              "      <td>0.267130</td>\n",
              "      <td>5.274158</td>\n",
              "      <td>5.891805</td>\n",
              "      <td>5.939020</td>\n",
              "      <td>6.189291</td>\n",
              "      <td>6.322219</td>\n",
              "    </tr>\n",
              "    <tr>\n",
              "      <th>Toyota</th>\n",
              "      <td>50.0</td>\n",
              "      <td>5.878396</td>\n",
              "      <td>0.156395</td>\n",
              "      <td>5.565848</td>\n",
              "      <td>5.720272</td>\n",
              "      <td>5.951338</td>\n",
              "      <td>6.009866</td>\n",
              "      <td>6.038223</td>\n",
              "    </tr>\n",
              "    <tr>\n",
              "      <th>Volkswagen</th>\n",
              "      <td>29.0</td>\n",
              "      <td>5.773833</td>\n",
              "      <td>0.088526</td>\n",
              "      <td>5.604226</td>\n",
              "      <td>5.733999</td>\n",
              "      <td>5.783189</td>\n",
              "      <td>5.844477</td>\n",
              "      <td>5.897627</td>\n",
              "    </tr>\n",
              "  </tbody>\n",
              "</table>\n",
              "</div>\n",
              "    <div class=\"colab-df-buttons\">\n",
              "\n",
              "  <div class=\"colab-df-container\">\n",
              "    <button class=\"colab-df-convert\" onclick=\"convertToInteractive('df-4ab26658-e9cd-42cb-a056-0d6dc990f6b8')\"\n",
              "            title=\"Convert this dataframe to an interactive table.\"\n",
              "            style=\"display:none;\">\n",
              "\n",
              "  <svg xmlns=\"http://www.w3.org/2000/svg\" height=\"24px\" viewBox=\"0 -960 960 960\">\n",
              "    <path d=\"M120-120v-720h720v720H120Zm60-500h600v-160H180v160Zm220 220h160v-160H400v160Zm0 220h160v-160H400v160ZM180-400h160v-160H180v160Zm440 0h160v-160H620v160ZM180-180h160v-160H180v160Zm440 0h160v-160H620v160Z\"/>\n",
              "  </svg>\n",
              "    </button>\n",
              "\n",
              "  <style>\n",
              "    .colab-df-container {\n",
              "      display:flex;\n",
              "      gap: 12px;\n",
              "    }\n",
              "\n",
              "    .colab-df-convert {\n",
              "      background-color: #E8F0FE;\n",
              "      border: none;\n",
              "      border-radius: 50%;\n",
              "      cursor: pointer;\n",
              "      display: none;\n",
              "      fill: #1967D2;\n",
              "      height: 32px;\n",
              "      padding: 0 0 0 0;\n",
              "      width: 32px;\n",
              "    }\n",
              "\n",
              "    .colab-df-convert:hover {\n",
              "      background-color: #E2EBFA;\n",
              "      box-shadow: 0px 1px 2px rgba(60, 64, 67, 0.3), 0px 1px 3px 1px rgba(60, 64, 67, 0.15);\n",
              "      fill: #174EA6;\n",
              "    }\n",
              "\n",
              "    .colab-df-buttons div {\n",
              "      margin-bottom: 4px;\n",
              "    }\n",
              "\n",
              "    [theme=dark] .colab-df-convert {\n",
              "      background-color: #3B4455;\n",
              "      fill: #D2E3FC;\n",
              "    }\n",
              "\n",
              "    [theme=dark] .colab-df-convert:hover {\n",
              "      background-color: #434B5C;\n",
              "      box-shadow: 0px 1px 3px 1px rgba(0, 0, 0, 0.15);\n",
              "      filter: drop-shadow(0px 1px 2px rgba(0, 0, 0, 0.3));\n",
              "      fill: #FFFFFF;\n",
              "    }\n",
              "  </style>\n",
              "\n",
              "    <script>\n",
              "      const buttonEl =\n",
              "        document.querySelector('#df-4ab26658-e9cd-42cb-a056-0d6dc990f6b8 button.colab-df-convert');\n",
              "      buttonEl.style.display =\n",
              "        google.colab.kernel.accessAllowed ? 'block' : 'none';\n",
              "\n",
              "      async function convertToInteractive(key) {\n",
              "        const element = document.querySelector('#df-4ab26658-e9cd-42cb-a056-0d6dc990f6b8');\n",
              "        const dataTable =\n",
              "          await google.colab.kernel.invokeFunction('convertToInteractive',\n",
              "                                                    [key], {});\n",
              "        if (!dataTable) return;\n",
              "\n",
              "        const docLinkHtml = 'Like what you see? Visit the ' +\n",
              "          '<a target=\"_blank\" href=https://colab.research.google.com/notebooks/data_table.ipynb>data table notebook</a>'\n",
              "          + ' to learn more about interactive tables.';\n",
              "        element.innerHTML = '';\n",
              "        dataTable['output_type'] = 'display_data';\n",
              "        await google.colab.output.renderOutput(dataTable, element);\n",
              "        const docLink = document.createElement('div');\n",
              "        docLink.innerHTML = docLinkHtml;\n",
              "        element.appendChild(docLink);\n",
              "      }\n",
              "    </script>\n",
              "  </div>\n",
              "\n",
              "\n",
              "<div id=\"df-ca6fbac6-99de-46f9-a973-3715abe217b3\">\n",
              "  <button class=\"colab-df-quickchart\" onclick=\"quickchart('df-ca6fbac6-99de-46f9-a973-3715abe217b3')\"\n",
              "            title=\"Suggest charts\"\n",
              "            style=\"display:none;\">\n",
              "\n",
              "<svg xmlns=\"http://www.w3.org/2000/svg\" height=\"24px\"viewBox=\"0 0 24 24\"\n",
              "     width=\"24px\">\n",
              "    <g>\n",
              "        <path d=\"M19 3H5c-1.1 0-2 .9-2 2v14c0 1.1.9 2 2 2h14c1.1 0 2-.9 2-2V5c0-1.1-.9-2-2-2zM9 17H7v-7h2v7zm4 0h-2V7h2v10zm4 0h-2v-4h2v4z\"/>\n",
              "    </g>\n",
              "</svg>\n",
              "  </button>\n",
              "\n",
              "<style>\n",
              "  .colab-df-quickchart {\n",
              "      --bg-color: #E8F0FE;\n",
              "      --fill-color: #1967D2;\n",
              "      --hover-bg-color: #E2EBFA;\n",
              "      --hover-fill-color: #174EA6;\n",
              "      --disabled-fill-color: #AAA;\n",
              "      --disabled-bg-color: #DDD;\n",
              "  }\n",
              "\n",
              "  [theme=dark] .colab-df-quickchart {\n",
              "      --bg-color: #3B4455;\n",
              "      --fill-color: #D2E3FC;\n",
              "      --hover-bg-color: #434B5C;\n",
              "      --hover-fill-color: #FFFFFF;\n",
              "      --disabled-bg-color: #3B4455;\n",
              "      --disabled-fill-color: #666;\n",
              "  }\n",
              "\n",
              "  .colab-df-quickchart {\n",
              "    background-color: var(--bg-color);\n",
              "    border: none;\n",
              "    border-radius: 50%;\n",
              "    cursor: pointer;\n",
              "    display: none;\n",
              "    fill: var(--fill-color);\n",
              "    height: 32px;\n",
              "    padding: 0;\n",
              "    width: 32px;\n",
              "  }\n",
              "\n",
              "  .colab-df-quickchart:hover {\n",
              "    background-color: var(--hover-bg-color);\n",
              "    box-shadow: 0 1px 2px rgba(60, 64, 67, 0.3), 0 1px 3px 1px rgba(60, 64, 67, 0.15);\n",
              "    fill: var(--button-hover-fill-color);\n",
              "  }\n",
              "\n",
              "  .colab-df-quickchart-complete:disabled,\n",
              "  .colab-df-quickchart-complete:disabled:hover {\n",
              "    background-color: var(--disabled-bg-color);\n",
              "    fill: var(--disabled-fill-color);\n",
              "    box-shadow: none;\n",
              "  }\n",
              "\n",
              "  .colab-df-spinner {\n",
              "    border: 2px solid var(--fill-color);\n",
              "    border-color: transparent;\n",
              "    border-bottom-color: var(--fill-color);\n",
              "    animation:\n",
              "      spin 1s steps(1) infinite;\n",
              "  }\n",
              "\n",
              "  @keyframes spin {\n",
              "    0% {\n",
              "      border-color: transparent;\n",
              "      border-bottom-color: var(--fill-color);\n",
              "      border-left-color: var(--fill-color);\n",
              "    }\n",
              "    20% {\n",
              "      border-color: transparent;\n",
              "      border-left-color: var(--fill-color);\n",
              "      border-top-color: var(--fill-color);\n",
              "    }\n",
              "    30% {\n",
              "      border-color: transparent;\n",
              "      border-left-color: var(--fill-color);\n",
              "      border-top-color: var(--fill-color);\n",
              "      border-right-color: var(--fill-color);\n",
              "    }\n",
              "    40% {\n",
              "      border-color: transparent;\n",
              "      border-right-color: var(--fill-color);\n",
              "      border-top-color: var(--fill-color);\n",
              "    }\n",
              "    60% {\n",
              "      border-color: transparent;\n",
              "      border-right-color: var(--fill-color);\n",
              "    }\n",
              "    80% {\n",
              "      border-color: transparent;\n",
              "      border-right-color: var(--fill-color);\n",
              "      border-bottom-color: var(--fill-color);\n",
              "    }\n",
              "    90% {\n",
              "      border-color: transparent;\n",
              "      border-bottom-color: var(--fill-color);\n",
              "    }\n",
              "  }\n",
              "</style>\n",
              "\n",
              "  <script>\n",
              "    async function quickchart(key) {\n",
              "      const quickchartButtonEl =\n",
              "        document.querySelector('#' + key + ' button');\n",
              "      quickchartButtonEl.disabled = true;  // To prevent multiple clicks.\n",
              "      quickchartButtonEl.classList.add('colab-df-spinner');\n",
              "      try {\n",
              "        const charts = await google.colab.kernel.invokeFunction(\n",
              "            'suggestCharts', [key], {});\n",
              "      } catch (error) {\n",
              "        console.error('Error during call to suggestCharts:', error);\n",
              "      }\n",
              "      quickchartButtonEl.classList.remove('colab-df-spinner');\n",
              "      quickchartButtonEl.classList.add('colab-df-quickchart-complete');\n",
              "    }\n",
              "    (() => {\n",
              "      let quickchartButtonEl =\n",
              "        document.querySelector('#df-ca6fbac6-99de-46f9-a973-3715abe217b3 button');\n",
              "      quickchartButtonEl.style.display =\n",
              "        google.colab.kernel.accessAllowed ? 'block' : 'none';\n",
              "    })();\n",
              "  </script>\n",
              "</div>\n",
              "    </div>\n",
              "  </div>\n"
            ]
          },
          "metadata": {},
          "execution_count": 67
        }
      ]
    },
    {
      "cell_type": "code",
      "source": [
        "import seaborn as sns\n",
        "sns.kdeplot(df['Price'])"
      ],
      "metadata": {
        "colab": {
          "base_uri": "https://localhost:8080/",
          "height": 466
        },
        "id": "kJG9_Zmqc7KB",
        "outputId": "0b0ba7fe-b31f-4857-85e0-38265afb8989"
      },
      "id": "kJG9_Zmqc7KB",
      "execution_count": 68,
      "outputs": [
        {
          "output_type": "execute_result",
          "data": {
            "text/plain": [
              "<Axes: xlabel='Price', ylabel='Density'>"
            ]
          },
          "metadata": {},
          "execution_count": 68
        },
        {
          "output_type": "display_data",
          "data": {
            "text/plain": [
              "<Figure size 640x480 with 1 Axes>"
            ],
            "image/png": "[encoded data removed]"
          },
          "metadata": {}
        }
      ]
    },
    {
      "cell_type": "code",
      "source": [
        "sns.kdeplot(data=df,x='Price',hue='Make')"
      ],
      "metadata": {
        "colab": {
          "base_uri": "https://localhost:8080/",
          "height": 466
        },
        "id": "UdCFmNfEdQEd",
        "outputId": "25cdeed2-a838-4dba-895d-227babbaa222"
      },
      "id": "UdCFmNfEdQEd",
      "execution_count": 69,
      "outputs": [
        {
          "output_type": "execute_result",
          "data": {
            "text/plain": [
              "<Axes: xlabel='Price', ylabel='Density'>"
            ]
          },
          "metadata": {},
          "execution_count": 69
        },
        {
          "output_type": "display_data",
          "data": {
            "text/plain": [
              "<Figure size 640x480 with 1 Axes>"
            ],
            "image/png": "[encoded data removed]"
          },
          "metadata": {}
        }
      ]
    },
    {
      "cell_type": "code",
      "source": [
        "#MG Motots is definitly the most expensive, with Datson being the cheepest.\n",
        "#There seems to be a main bump at around $6000 (5.9), but a smaller second bump around $17000 (6.3)"
      ],
      "metadata": {
        "id": "r9NjjpmwfEcb"
      },
      "id": "r9NjjpmwfEcb",
      "execution_count": 70,
      "outputs": []
    },
    {
      "cell_type": "code",
      "source": [],
      "metadata": {
        "id": "uYExW4HBe37N"
      },
      "id": "uYExW4HBe37N",
      "execution_count": 70,
      "outputs": []
    },
    {
      "cell_type": "code",
      "source": [
        "#3\n",
        "from sklearn.model_selection import train_test_split\n",
        "from sklearn.linear_model import LinearRegression\n",
        "from sklearn.metrics import mean_squared_error, r2_score\n",
        "import matplotlib.pyplot as plt\n",
        "\n",
        "vars = [\"ID_Number\",\t\"Make_Year\",\t\"Mileage_Run\", 'No_of_Owners',\t'Seating_Capacity']\n",
        "X = df.loc[:,vars]\n",
        "y = df['Price']\n",
        "X_train, X_test, y_train, y_test = train_test_split(X, y, test_size=0.2, random_state=42)\n",
        "\n"
      ],
      "metadata": {
        "id": "yxJkKDcBmCMc"
      },
      "id": "yxJkKDcBmCMc",
      "execution_count": 71,
      "outputs": []
    },
    {
      "cell_type": "code",
      "source": [
        "#4\n",
        "#NUMERICAL ONLY\n",
        "model = LinearRegression()\n",
        "\n",
        "# Fit the model to the training data\n",
        "model.fit(X_train, y_train)\n",
        "\n",
        "# Make predictions on the test set\n",
        "y_pred = model.predict(X_test)\n",
        "\n",
        "# Evaluate the model's performance\n",
        "mse = mean_squared_error(y_test, y_pred)\n",
        "r2 = r2_score(y_test, y_pred)\n",
        "print(f'Mean Squared Error: {mse}')\n",
        "print(f'R-squared: {r2}')"
      ],
      "metadata": {
        "colab": {
          "base_uri": "https://localhost:8080/"
        },
        "id": "5YpcovPYomw0",
        "outputId": "caa60150-de3e-4147-c99d-444672e36ecf"
      },
      "id": "5YpcovPYomw0",
      "execution_count": 72,
      "outputs": [
        {
          "output_type": "stream",
          "name": "stdout",
          "text": [
            "Mean Squared Error: 0.022455816984674644\n",
            "R-squared: 0.37568790268530217\n"
          ]
        }
      ]
    },
    {
      "cell_type": "code",
      "source": [
        "#COMBINED\n",
        "df_encoded = pd.get_dummies(df, columns=['Make', 'Color', 'Body_Type', 'Fuel_Type', 'Transmission',\t'Transmission_Type'], drop_first=True)\n",
        "vars = ['Make', 'Color', 'Body_Type', 'Fuel_Type', 'Transmission',\t'Transmission_Type']\n",
        "\n",
        "# Separate the features (X) and target variable (y)\n",
        "X = df_encoded.drop('Price', axis=1)\n",
        "y = df_encoded['Price']\n",
        "X_train, X_test, y_train, y_test = train_test_split(X, y, test_size=0.2, random_state=42)\n",
        "\n",
        "model = LinearRegression()\n",
        "\n",
        "# Fit the model to the training data\n",
        "model.fit(X_train, y_train)\n",
        "\n",
        "# Make predictions on the test set\n",
        "y_pred = model.predict(X_test)\n",
        "\n",
        "# Evaluate the model's performance\n",
        "mse = mean_squared_error(y_test, y_pred)\n",
        "r2 = r2_score(y_test, y_pred)\n",
        "print(f'Mean Squared Error: {mse}')\n",
        "print(f'R-squared: {r2}')"
      ],
      "metadata": {
        "colab": {
          "base_uri": "https://localhost:8080/"
        },
        "id": "G3YJ4sTMsFIt",
        "outputId": "a80b9b2a-d781-4bbe-ef07-cebaca3c0160"
      },
      "id": "G3YJ4sTMsFIt",
      "execution_count": 73,
      "outputs": [
        {
          "output_type": "stream",
          "name": "stdout",
          "text": [
            "Mean Squared Error: 0.006850508586956064\n",
            "R-squared: 0.8095435411450984\n"
          ]
        }
      ]
    },
    {
      "cell_type": "code",
      "source": [
        "#CATIGORICAL ONLY\n",
        "df_categorical = df.drop([\"ID_Number\",\t\"Make_Year\",\t\"Mileage_Run\", 'No_of_Owners',\t'Seating_Capacity'], axis=1)\n",
        "df_encoded = pd.get_dummies(df_categorical, columns=['Make', 'Color', 'Body_Type', 'Fuel_Type', 'Transmission',\t'Transmission_Type'], drop_first=True)\n",
        "vars = ['Make', 'Color', 'Body_Type', 'Fuel_Type', 'Transmission',\t'Transmission_Type']\n",
        "\n",
        "# Separate the features (X) and target variable (y)\n",
        "X = df_encoded.drop('Price', axis=1)\n",
        "y = df_encoded['Price']\n",
        "X_train, X_test, y_train, y_test = train_test_split(X, y, test_size=0.2, random_state=42)\n",
        "\n",
        "model = LinearRegression()\n",
        "\n",
        "# Fit the model to the training data\n",
        "model.fit(X_train, y_train)\n",
        "\n",
        "# Make predictions on the test set\n",
        "y_pred = model.predict(X_test)\n",
        "\n",
        "# Evaluate the model's performance\n",
        "mse = mean_squared_error(y_test, y_pred)\n",
        "r2 = r2_score(y_test, y_pred)\n",
        "print(f'Mean Squared Error: {mse}')\n",
        "print(f'R-squared: {r2}')"
      ],
      "metadata": {
        "colab": {
          "base_uri": "https://localhost:8080/"
        },
        "id": "cqVmrOmiuxEO",
        "outputId": "6190d6ac-9229-4736-c156-04fc2f5e96d4"
      },
      "id": "cqVmrOmiuxEO",
      "execution_count": 74,
      "outputs": [
        {
          "output_type": "stream",
          "name": "stdout",
          "text": [
            "Mean Squared Error: 0.012424235964215078\n",
            "R-squared: 0.654583896117187\n"
          ]
        }
      ]
    },
    {
      "cell_type": "code",
      "source": [
        "#The mean sqaured error of the combined is better then any of the single Numeric and Catigorical. However the catigorical data was far superior to just the numeric in the model."
      ],
      "metadata": {
        "id": "M-QsPR6avmCk"
      },
      "id": "M-QsPR6avmCk",
      "execution_count": 75,
      "outputs": []
    },
    {
      "cell_type": "code",
      "source": [
        "#5\n",
        "from sklearn.preprocessing import PolynomialFeatures\n",
        "\n",
        "\n",
        "count = 6\n",
        "arr = [0]*count\n",
        "arr2 = [0]*count\n",
        "vars = [\"ID_Number\",\t\"Make_Year\",\t\"Mileage_Run\", 'No_of_Owners',\t'Seating_Capacity']\n",
        "X_numeric = df.loc[:,vars]\n",
        "vars2 = ['Make', 'Color', 'Body_Type', 'Fuel_Type', 'Transmission',\t'Transmission_Type']\n",
        "X_catigorical = df.loc[:,vars2]\n",
        "\n",
        "for i in range(count):\n",
        "  degree = i+1\n",
        "\n",
        "  poly = PolynomialFeatures(degree=degree, include_bias=False)\n",
        "  X_numerical_poly = poly.fit_transform(X_numeric)\n",
        "  X_combined = pd.concat([pd.DataFrame(X_numerical_poly, columns=poly.get_feature_names_out([\"ID_Number\",\t\"Make_Year\",\t\"Mileage_Run\", 'No_of_Owners',\t'Seating_Capacity'])), X_catigorical.reset_index(drop=True)], axis=1)\n",
        "\n",
        "  X_encoded = pd.get_dummies(X_combined, columns=['Make', 'Color', 'Body_Type', 'Fuel_Type', 'Transmission',\t'Transmission_Type'], drop_first=True)\n",
        "\n",
        "  y = df['Price']\n",
        "\n",
        "  X_train, X_test, y_train, y_test = train_test_split(X_encoded, y, test_size=0.2, random_state=42)\n",
        "\n",
        "  model = LinearRegression()\n",
        "\n",
        "  # Fit the model to the training data\n",
        "  model.fit(X_train, y_train)\n",
        "\n",
        "  # Make predictions on the test set\n",
        "  y_pred = model.predict(X_test)\n",
        "\n",
        "  # Evaluate the model's performance\n",
        "  mse = mean_squared_error(y_test, y_pred)\n",
        "  r2 = r2_score(y_test, y_pred)\n",
        "  arr[i] = r2\n",
        "  arr2[i] = mse"
      ],
      "metadata": {
        "id": "TVl0KZnL7b5b"
      },
      "id": "TVl0KZnL7b5b",
      "execution_count": 76,
      "outputs": []
    },
    {
      "cell_type": "code",
      "source": [
        "\n",
        "# Extract x and y coordinates from the subset\n",
        "x = arr\n",
        "\n",
        "y = [0]*count\n",
        "for i in range(count):\n",
        "  y[i] = i+1\n",
        "\n",
        "# Create a scatter plot\n",
        "plt.scatter(y, x, label='degree vs r^2', color='blue')\n",
        "plt.xlabel('degree')\n",
        "plt.ylabel('r^2')\n",
        "plt.title('degree vs r^2')\n",
        "plt.legend()\n",
        "plt.show()\n",
        "\n",
        "print(x[0])\n",
        "print(x[1])\n",
        "print(x[2])\n",
        "print(arr2[0])\n",
        "print(arr2[1])\n",
        "print(arr2[2])\n",
        "print(arr2[3])"
      ],
      "metadata": {
        "colab": {
          "base_uri": "https://localhost:8080/",
          "height": 594
        },
        "id": "SmcdZONLFwGW",
        "outputId": "28179a6c-3ce0-482a-bc04-3a7e77d5c775"
      },
      "id": "SmcdZONLFwGW",
      "execution_count": 77,
      "outputs": [
        {
          "output_type": "display_data",
          "data": {
            "text/plain": [
              "<Figure size 640x480 with 1 Axes>"
            ],
            "image/png": "[encoded data removed]"
          },
          "metadata": {}
        },
        {
          "output_type": "stream",
          "name": "stdout",
          "text": [
            "0.8095435411450954\n",
            "0.8128217064827186\n",
            "0.7994798723005817\n",
            "0.0068505085869561685\n",
            "0.006732596598411019\n",
            "0.007212487646370195\n",
            "0.049489706129694486\n"
          ]
        }
      ]
    },
    {
      "cell_type": "code",
      "source": [
        "#The best value was degree = 2, closly followed by degree = 1, it took till degree 4 to get negative. The MSE follows the r^2 value closely. It is only slightly better than 3."
      ],
      "metadata": {
        "id": "3JATY4jhI0LO"
      },
      "id": "3JATY4jhI0LO",
      "execution_count": 78,
      "outputs": []
    },
    {
      "cell_type": "code",
      "source": [
        "#6\n",
        "degree = 2\n",
        "\n",
        "poly = PolynomialFeatures(degree=degree, include_bias=False)\n",
        "X_numerical_poly = poly.fit_transform(X_numeric)\n",
        "X_combined = pd.concat([pd.DataFrame(X_numerical_poly, columns=poly.get_feature_names_out([\"ID_Number\",\t\"Make_Year\",\t\"Mileage_Run\", 'No_of_Owners',\t'Seating_Capacity'])), X_catigorical.reset_index(drop=True)], axis=1)\n",
        "\n",
        "X_encoded = pd.get_dummies(X_combined, columns=['Make', 'Color', 'Body_Type', 'Fuel_Type', 'Transmission',\t'Transmission_Type'], drop_first=True)\n",
        "\n",
        "y = df['Price']\n",
        "X_train, X_test, y_train, y_test = train_test_split(X_encoded, y, test_size=0.2, random_state=42)\n",
        "\n",
        "model = LinearRegression()\n",
        "\n",
        "  # Fit the model to the training data\n",
        "model.fit(X_train, y_train)\n",
        "\n",
        "  # Make predictions on the test set\n",
        "y_pred = model.predict(X_test)\n",
        "\n",
        "plt.scatter(y_pred, y_test, label='y_predict vs y_test', color='blue')\n",
        "plt.xlabel('X-pred')\n",
        "plt.ylabel('Y-test')\n",
        "plt.show()"
      ],
      "metadata": {
        "colab": {
          "base_uri": "https://localhost:8080/",
          "height": 449
        },
        "id": "0CCtxTCUKNNz",
        "outputId": "ce6298e7-0fdf-471d-aca8-49ce48ce2290"
      },
      "id": "0CCtxTCUKNNz",
      "execution_count": 79,
      "outputs": [
        {
          "output_type": "display_data",
          "data": {
            "text/plain": [
              "<Figure size 640x480 with 1 Axes>"
            ],
            "image/png": "[encoded data removed]"
          },
          "metadata": {}
        }
      ]
    },
    {
      "cell_type": "code",
      "source": [
        "#they roughly follow eachother, pretty darn linear"
      ],
      "metadata": {
        "id": "nL0rmNm3LWnB"
      },
      "id": "nL0rmNm3LWnB",
      "execution_count": 80,
      "outputs": []
    },
    {
      "cell_type": "code",
      "source": [
        "#7\n",
        "from sklearn.tree import DecisionTreeRegressor\n",
        "from sklearn.preprocessing import OneHotEncoder\n",
        "from sklearn.compose import ColumnTransformer\n",
        "from sklearn.pipeline import Pipeline\n",
        "\n",
        "\n",
        "X = df.drop('Price', axis=1)\n",
        "y = df['Price']\n",
        "\n",
        "# Split the data into training and testing sets\n",
        "X_train, X_test, y_train, y_test = train_test_split(X, y, test_size=0.2, random_state=42)\n",
        "\n",
        "# Create a preprocessor for numerical and categorical features\n",
        "numeric_features = [\"ID_Number\",\t\"Make_Year\",\t\"Mileage_Run\", 'No_of_Owners',\t'Seating_Capacity']\n",
        "categorical_features = ['Make', 'Color', 'Body_Type', 'Fuel_Type', 'Transmission',\t'Transmission_Type']\n",
        "\n",
        "\n",
        "\n",
        "numeric_transformer = Pipeline(steps=[\n",
        "    ('dummy', 'passthrough')  # Placeholder for numerical features\n",
        "])\n",
        "\n",
        "categorical_transformer = Pipeline(steps=[\n",
        "    ('onehot', OneHotEncoder(handle_unknown='ignore'))\n",
        "])\n",
        "\n",
        "preprocessor = ColumnTransformer(\n",
        "    transformers=[\n",
        "        ('num', numeric_transformer, numeric_features),\n",
        "        ('cat', categorical_transformer, categorical_features)\n",
        "    ])\n",
        "\n",
        "# Vary the maximum depth of the decision tree and compute R^2 and RMSE\n",
        "max_depths = range(1, 16)\n",
        "r2_scores = []\n",
        "rmse_scores = []\n",
        "\n",
        "for depth in max_depths:\n",
        "    # Create a decision tree model within a pipeline\n",
        "    model = Pipeline(steps=[\n",
        "        ('preprocessor', preprocessor),\n",
        "        ('regressor', DecisionTreeRegressor(max_depth=depth))\n",
        "    ])\n",
        "\n",
        "    # Fit the model to the training data\n",
        "    model.fit(X_train, y_train)\n",
        "\n",
        "    # Make predictions on the test set\n",
        "    y_pred = model.predict(X_test)\n",
        "\n",
        "    # Compute R^2 and RMSE\n",
        "    r2 = r2_score(y_test, y_pred)\n",
        "    rmse = np.sqrt(mean_squared_error(y_test, y_pred))\n",
        "\n",
        "    # Store the scores\n",
        "    r2_scores.append(r2)\n",
        "    rmse_scores.append(rmse)\n",
        "\n",
        "# Plot the results\n",
        "plt.figure(figsize=(10, 5))\n",
        "\n",
        "# R^2\n",
        "plt.subplot(1, 2, 1)\n",
        "plt.plot(max_depths, r2_scores, marker='o')\n",
        "plt.title('R-squared vs. Max Depth')\n",
        "plt.xlabel('Max Depth')\n",
        "plt.ylabel('R-squared')\n",
        "\n",
        "# RMSE\n",
        "plt.subplot(1, 2, 2)\n",
        "plt.plot(max_depths, rmse_scores, marker='o', color='orange')\n",
        "plt.title('RMSE vs. Max Depth')\n",
        "plt.xlabel('Max Depth')\n",
        "plt.ylabel('RMSE')\n",
        "\n",
        "plt.tight_layout()\n",
        "plt.show()\n",
        "\n",
        "print(r2_scores[6])\n",
        "print(r2_scores[7])\n",
        "print(r2_scores[8])\n",
        "print(r2_scores[11])"
      ],
      "metadata": {
        "colab": {
          "base_uri": "https://localhost:8080/",
          "height": 576
        },
        "id": "JcdCPp3xRk9L",
        "outputId": "4cc232e6-c554-407c-ba67-a9d0c810a7e1"
      },
      "id": "JcdCPp3xRk9L",
      "execution_count": 81,
      "outputs": [
        {
          "output_type": "display_data",
          "data": {
            "text/plain": [
              "<Figure size 1000x500 with 2 Axes>"
            ],
            "image/png": "[encoded data removed]"
          },
          "metadata": {}
        },
        {
          "output_type": "stream",
          "name": "stdout",
          "text": [
            "0.7809374618969227\n",
            "0.7965467555968674\n",
            "0.7907384026192406\n",
            "0.7833556007980371\n"
          ]
        }
      ]
    },
    {
      "cell_type": "code",
      "source": [
        "#It appears that a depth of 8 gives the best result"
      ],
      "metadata": {
        "id": "vfRlLUXdSn-b"
      },
      "id": "vfRlLUXdSn-b",
      "execution_count": 82,
      "outputs": []
    },
    {
      "cell_type": "code",
      "source": [
        "#8\n",
        "from sklearn.tree import export_text\n",
        "\n",
        "# Best depth (you can replace this with the optimal depth from your analysis)\n",
        "best_depth = 8\n",
        "\n",
        "# Create the decision tree model with the best depth\n",
        "best_model = Pipeline(steps=[\n",
        "    ('preprocessor', preprocessor),\n",
        "    ('regressor', DecisionTreeRegressor(max_depth=best_depth))\n",
        "])\n",
        "\n",
        "# Fit the best model to the training data\n",
        "best_model.fit(X_train, y_train)\n",
        "\n",
        "# Make predictions on the test set\n",
        "y_pred_best = best_model.predict(X_test)\n",
        "\n",
        "# Plot predicted vs true values\n",
        "plt.figure(figsize=(8, 8))\n",
        "plt.scatter(y_test, y_pred_best, alpha=0.8)\n",
        "plt.plot([min(y_test), max(y_test)], [min(y_test), max(y_test)], linestyle='--', color='red', linewidth=2)\n",
        "plt.title('Predicted vs True Values')\n",
        "plt.xlabel('True Values')\n",
        "plt.ylabel('Predicted Values')\n",
        "plt.show()"
      ],
      "metadata": {
        "colab": {
          "base_uri": "https://localhost:8080/",
          "height": 718
        },
        "id": "vItTRz5lTaMu",
        "outputId": "29a8758a-a59c-4626-9f5f-60100f1ce181"
      },
      "id": "vItTRz5lTaMu",
      "execution_count": 83,
      "outputs": [
        {
          "output_type": "display_data",
          "data": {
            "text/plain": [
              "<Figure size 800x800 with 1 Axes>"
            ],
            "image/png": "[encoded data removed]"
          },
          "metadata": {}
        }
      ]
    },
    {
      "cell_type": "code",
      "source": [
        "#They roughly line up on the diagnal"
      ],
      "metadata": {
        "id": "d1IhS69dUcKh"
      },
      "id": "d1IhS69dUcKh",
      "execution_count": 84,
      "outputs": []
    },
    {
      "cell_type": "code",
      "source": [
        "residuals = y_test - y_pred_best\n",
        "plt.figure(figsize=(8, 6))\n",
        "sns.histplot(residuals, kde=True, color='skyblue')\n",
        "plt.title('Residuals Distribution')\n",
        "plt.xlabel('Residuals')\n",
        "plt.ylabel('Density')\n",
        "plt.show()"
      ],
      "metadata": {
        "colab": {
          "base_uri": "https://localhost:8080/",
          "height": 564
        },
        "id": "wsriLSCMUWQB",
        "outputId": "a0a4a5ea-afac-4d61-dbbd-67173fc0164d"
      },
      "id": "wsriLSCMUWQB",
      "execution_count": 85,
      "outputs": [
        {
          "output_type": "display_data",
          "data": {
            "text/plain": [
              "<Figure size 800x600 with 1 Axes>"
            ],
            "image/png": "[encoded data removed]"
          },
          "metadata": {}
        }
      ]
    },
    {
      "cell_type": "code",
      "source": [
        "#looks mostly bell shaped with some outliers at -0.24 and 0.2"
      ],
      "metadata": {
        "id": "5wBBEF9LUldf"
      },
      "id": "5wBBEF9LUldf",
      "execution_count": 86,
      "outputs": []
    },
    {
      "cell_type": "code",
      "source": [
        "#9\n",
        "#The linear model was better in this case as the best tree model had an r^2 of 0.7897157704835697 compared to the best linear model having an r^2 of 0.8128217064827186\n",
        "\n"
      ],
      "metadata": {
        "id": "ylmM2md-Uq0H"
      },
      "id": "ylmM2md-Uq0H",
      "execution_count": 87,
      "outputs": []
    },
    {
      "cell_type": "markdown",
      "id": "25bf83c6-ff44-42d6-9b33-8be1b945860d",
      "metadata": {
        "id": "25bf83c6-ff44-42d6-9b33-8be1b945860d"
      },
      "source": [
        "**Q2.** The is a question about regression using decision trees and linear models. The data include wages at data science-y jobs, including\n",
        "\n",
        "  - `Rating`: Company worker happiness score\n",
        "  - `Size`: Number of employees\n",
        "  - `Sector`: Part of the economy\n",
        "  - `avg_salary`: Average wage\n",
        "  - `job_state`: Location of work\n",
        "\n",
        "  1. Load the `wages_hw.csv` file. Split the sample into an ~80% training set and a ~20% test set. Do any necessary cleaning, including outliers and missings.\n",
        "  2. Use a linear model to regress `avg_salary` on `Sector`. Which sectors have the highest predicted wages? What is the $R^2$ and `RMSE` on the test set?\n",
        "  3. Make a scatterplot of `avg_salary` and `Rating`. Is there an obvious visual relationship between the two variables? Regress `avg_salary` on `Rating` as a numeric variable: Do higher ratings predict higher or lower wages? Convert `Rating` to a one-hot encoded variable, with a category for each rating. Run a regression of `avg_salary` on the categorical version. How do your results change? Explain. Which version has a higher $R^2$ and lower `RMSE`?\n",
        "  4. Now interact `Sector` with the categorical version of `Rating`, so your regressors are a (Sector, Rating) pair; this is a programming puzzle you'll have to think about, but using the `.PolynomialFeatures()` function on the one-hot encoded categorical variables is one option, and another is pre-processing a new variable that interacts `Sector` and `Rating` and then one-hot encoding the result. Regress `avg_salary` on the (Sector, Rating) pairs. How does the $R^2$ and `RMSE` on the test set compare to part 2? Interpret the coefficients; which sector-rating pairs have the highest wages?\n",
        "  5. Run a linear regression of `avg_salary` on all the variables. What is the $R^2$ on the test set? How does it compare to your simpler models in 2--4?\n",
        "  6. Build a decision tree by regressing `avg_salary` on `Sector`, `Rating`, and the (Sector, Rating) pairs. What are the $R^2$ and `RMSE` of your models on the test set? How do your answers compare to parts 2, 3, and 4?\n",
        "  7. Build a decision tree by regressing `avg_salary` on all the other variables. What is the $R^2$ and `RMSE` on the test set?\n",
        "  8. Build a linear regression or decision tree using the available variables based on your own judgment. What degrees of freedom are you giving the model to predict variation in wages across company and location attributes? What is the $R^2$ and `RMSE` of your model? How does it compare to the previous ones in the question? Why does yours perform better or worse on the test set?"
      ]
    },
    {
      "cell_type": "markdown",
      "id": "409519b9-e803-4a95-aded-d6eabf6bc526",
      "metadata": {
        "id": "409519b9-e803-4a95-aded-d6eabf6bc526"
      },
      "source": [
        "**Q3.** This a question purely on categorical prediction. The data for this happen to be gathered in 1987 in Indonesia, and concern contraceptive method choice. The questions and data-gathering assumptions reflect the culture and attitudes of that time and place, but provide a good example of a categorical prediction problem on an important topic (family planning and maternal health The variables in the data are:\n",
        "\n",
        "    - Wife's age (numerical)\n",
        "    - Wife's education (categorical) 1=low, 2, 3, 4=high\n",
        "    - Husband's education (categorical) 1=low, 2, 3, 4=high\n",
        "    - Number of children ever born (numerical)\n",
        "    - Wife's religion (binary) 0=Non-Islam, 1=Islam\n",
        "    - Wife's now working? (binary) 0=Yes, 1=No\n",
        "    - Husband's occupation (categorical) 1, 2, 3, 4\n",
        "    - Standard-of-living index (categorical) 1=low, 2, 3, 4=high\n",
        "    - Media exposure (binary) 0=Good, 1=Not good\n",
        "    - Contraceptive method used (class attribute) 1=No-use, 2=Long-term, 3=Short-termhort-term\n",
        "\n",
        "  1. Load the `contraceptiveMethodChoice.csv` data. Tabulate the `method` variable (i.e. `.value_counts()`). 1 corresponds to `No Contraception`, 3 corresponds to `Short Term` (e.g. condoms, birth control pills), and 2 corresponds to `Long Term` (e.g. IUD, sterilization). Cross tabulate `method` and `numberChildren`. Do couples that use birth control tend to have more children than those who don't?\n",
        "  2. Split the sample into ~80% training data and ~20% testing data.\n",
        "  3. We are now going to make a mistake. Train a regression tree to predict the contraceptive method using the other variables in the data, not a classification tree. Look at the terminal nodes in the tree: What values do they take? Does that make sense? Explain clearly what has gone wrong here.\n",
        "  4. Instead of regression, use a classification tree to predict contraceptive method using the other variables in the data. How does it look different from the previous tree? What variables does the algorithm use? In broad terms, which groups of people are most likely to use each method of contraception?\n",
        "  5. Compute a confusion matrix for your classification tree on the test set (Hint: There are now three categories instead of two, so the cross tabulation will be a $3 \\times 3$ matrix instead of $2 \\times 2$.). Compute the Accuracy of your model overall, and the Accuracy for predicting each contraceptive method.\n",
        "  7. Why can't you use a linear probability model to do this exercise? Explain clearly in words."
      ]
    },
    {
      "cell_type": "markdown",
      "id": "7bd15c6b-4c7c-4230-a199-e03e1054ec6a",
      "metadata": {
        "id": "7bd15c6b-4c7c-4230-a199-e03e1054ec6a"
      },
      "source": [
        "**Q4.** This is a question where we use regression and regression trees. The outcome is whether a defendant is held pre-trial in the Virginia justice system. We would like to understand how that outcome is predicted by characteristics of the defendant, particularly race. Let's be very careful/clear: We aren't saying anyone *should* be held without bond or asserting that people with different demographic variables *should* be more likely to be held, but instead trying to predict whether people with different characteristics *are empirically more likely* to be held without bond, given the available information. This is the first step we would take in investigating whether a system is fair, or how large the disparities are: Does it treat people with similar observable characteristics similarly, or not? We are going to look at a common question: Are Black defendants treated differently from white or Asian ones? (There are Native American defendants, but there are 11 in total, which is such a small number of observations that is difficult to clearly say anything about how this group is treated relative to the others.)\n",
        "\n",
        "The variables in the data are:\n",
        "\n",
        "  - `held_wo_bail`: Whether a defendant is held without bail before trial (Boolean logical)\n",
        "  - `race`, `sex`: Categorical demographic variables\n",
        "  - `is_poor`: Whether the defendant is classified as indigent\n",
        "  - `prior_F`, `prior_M`: The number of prior felony and misdemeanor arrests\n",
        "  - `case_type`: A categorical variable indicating a misdemeanor `M` or felony `F` or infraction `I` or special case `S`\n",
        "  - `age`: Defendant's age\n",
        "  - `bond`, `bond_NA`, `bond_type`: The amount of any bond, whether it is missing, and the type\n",
        "  - `sentence`, `sentence_NA`, `sentence_type`: The length of any sentence, whether it is missing, and the type\n",
        "\n",
        "1. Load the `pretrial_data.csv` data. Notice that there are `nan`s, but the data are relatively clean. Because there are `.nan`s among variables you won't use, you'll want to narrow down your analysis to the relevant variables before dropping or imputing missing values.\n",
        "2. Create a dummy variable indicating that the defendant is Black.\n",
        "3. Regress `held` on `Black`. What is the slope coefficient Interpret the coefficient on the Black dummy variable: How much more likely is a black person to be held without bail? What is the $R^2$ of the model?\n",
        "4. Before doing this question, please think for a few minutes about how to make the process of running these regressions as efficient as possible, before jumping into writing code. Repeat part 2, for the following specifications, keeping track of the coefficient on the Black dummy variable each time:\n",
        "      - `held` on `Black` and `sex`\n",
        "      - `held` on `Black` and `sex` and `is_poor`\n",
        "      - `held` on `Black` and `sex` and `is_poor` and `prior_F`\n",
        "      - `held` on `Black` and `sex` and `is_poor` and `prior_F` and `case_type`\n",
        "What happens to the coefficient on the Black dummy variable as you include more regressors/features/controls in the regression? Explain your findings.\n",
        "5. Suppose we don't want to see just `Black` and `sex`, but `Black` interacted with `sex`: Are Black men and Black women treated systemically differently from the rest of the population? Implement this in a regression, and explain your findings.\n",
        "6. Imagine someone argued we should use these kinds of models to help a judge or magistrate make bail decisions (you could obviously go back and make this kind of model for the bond and sentence variables, then deploy it on new cases to predict what their bond and sentence values would be). What concerns would you have? Do you think society should be using data-driven and automated tools like that? Explain your concerns clearly."
      ]
    },
    {
      "cell_type": "code",
      "source": [
        "df = pd.read_csv('./assignment4/data/pretrial_data.csv', low_memory=False)"
      ],
      "metadata": {
        "id": "qkRaBJ6nYbOO"
      },
      "id": "qkRaBJ6nYbOO",
      "execution_count": 114,
      "outputs": []
    },
    {
      "cell_type": "code",
      "source": [
        "df[\"race\"].unique()\n",
        "df['Black'] = df['race'].apply(lambda x: '1' if x == 'B' else '0')\n"
      ],
      "metadata": {
        "id": "MOZcH4GHZCDI"
      },
      "id": "MOZcH4GHZCDI",
      "execution_count": 115,
      "outputs": []
    },
    {
      "cell_type": "code",
      "source": [
        "df['Black'] = pd.to_numeric(df['Black'])"
      ],
      "metadata": {
        "id": "MkFneQSKaFKI"
      },
      "id": "MkFneQSKaFKI",
      "execution_count": 116,
      "outputs": []
    },
    {
      "cell_type": "code",
      "source": [
        "#3\n",
        "import statsmodels.api as sm\n",
        "#found this online and wanted to try it\n",
        "\n",
        "X = sm.add_constant(df['Black'])\n",
        "\n",
        "# Fit logistic regression model\n",
        "model = sm.Logit(df['held_wo_bail'], X)\n",
        "result = model.fit()\n",
        "\n",
        "# Display model summary\n",
        "print(result.summary())\n",
        "\n",
        "# Accessing the slope coefficient\n",
        "slope_coefficient = result.params['Black']\n",
        "\n",
        "# Calculate odds ratio\n",
        "odds_ratio = np.exp(slope_coefficient)\n",
        "\n",
        "# Interpretation of the coefficient\n",
        "print(f\"Slope Coefficient: {slope_coefficient}\")\n",
        "print(f\"Odds Ratio: {odds_ratio}\")"
      ],
      "metadata": {
        "colab": {
          "base_uri": "https://localhost:8080/"
        },
        "id": "o8zmbOfVbVZ3",
        "outputId": "803deab1-103b-4ac7-8682-e1cfec393ec5"
      },
      "id": "o8zmbOfVbVZ3",
      "execution_count": 117,
      "outputs": [
        {
          "output_type": "stream",
          "name": "stdout",
          "text": [
            "Optimization terminated successfully.\n",
            "         Current function value: 0.568693\n",
            "         Iterations 5\n",
            "                           Logit Regression Results                           \n",
            "==============================================================================\n",
            "Dep. Variable:           held_wo_bail   No. Observations:                22986\n",
            "Model:                          Logit   Df Residuals:                    22984\n",
            "Method:                           MLE   Df Model:                            1\n",
            "Date:                Tue, 14 Nov 2023   Pseudo R-squ.:                0.005765\n",
            "Time:                        23:38:23   Log-Likelihood:                -13072.\n",
            "converged:                       True   LL-Null:                       -13148.\n",
            "Covariance Type:            nonrobust   LLR p-value:                 7.730e-35\n",
            "==============================================================================\n",
            "                 coef    std err          z      P>|z|      [0.025      0.975]\n",
            "------------------------------------------------------------------------------\n",
            "const         -1.2110      0.020    -59.575      0.000      -1.251      -1.171\n",
            "Black          0.3748      0.030     12.337      0.000       0.315       0.434\n",
            "==============================================================================\n",
            "Slope Coefficient: 0.3748032955130325\n",
            "Odds Ratio: 1.4547052394253417\n"
          ]
        }
      ]
    },
    {
      "cell_type": "code",
      "source": [
        "#as the coefficient is positive there is a higher chance that someone who is black is held without bail."
      ],
      "metadata": {
        "id": "sxiOMCrnb42I"
      },
      "id": "sxiOMCrnb42I",
      "execution_count": 92,
      "outputs": []
    },
    {
      "cell_type": "code",
      "source": [],
      "metadata": {
        "id": "SIG2rfQyL1kE"
      },
      "id": "SIG2rfQyL1kE",
      "execution_count": null,
      "outputs": []
    },
    {
      "cell_type": "code",
      "source": [
        "df_temp = df\n",
        "df_temp['sex'] = df_temp['sex'].replace(' ', np.nan)"
      ],
      "metadata": {
        "id": "FTfxDkEbczcM"
      },
      "id": "FTfxDkEbczcM",
      "execution_count": 122,
      "outputs": []
    },
    {
      "cell_type": "code",
      "source": [
        "df_temp['sex_dummy'] = df_temp['sex'].apply(lambda x: '1' if x == 'F' else '0')\n",
        "df_temp['sex_dummy'] = pd.to_numeric(df_temp['sex_dummy'])"
      ],
      "metadata": {
        "id": "SOx4DngfMQtS"
      },
      "id": "SOx4DngfMQtS",
      "execution_count": 123,
      "outputs": []
    },
    {
      "cell_type": "code",
      "source": [
        "X = sm.add_constant(df_temp[['Black', 'sex_dummy']])\n",
        "\n",
        "# Fit logistic regression model\n",
        "model = sm.Logit(df_temp['held_wo_bail'], X)\n",
        "result = model.fit()\n",
        "\n",
        "# Display model summary\n",
        "print(result.summary())\n",
        "\n",
        "# Accessing the slope coefficients\n",
        "slope_black = result.params['Black']\n",
        "slope_sex = result.params['sex_dummy']\n",
        "\n",
        "# Calculate odds ratios\n",
        "odds_ratio_black = np.exp(slope_black)\n",
        "odds_ratio_sex = np.exp(slope_sex)\n",
        "\n",
        "# Interpretation of the coefficients\n",
        "print(f\"Slope Coefficient (Black): {slope_black}\")\n",
        "print(f\"Odds Ratio (Black): {odds_ratio_black}\")\n",
        "\n",
        "print(f\"Slope Coefficient (Sex): {slope_sex}\")\n",
        "print(f\"Odds Ratio (Sex): {odds_ratio_sex}\")"
      ],
      "metadata": {
        "colab": {
          "base_uri": "https://localhost:8080/"
        },
        "id": "FC2Nq6cFcj0S",
        "outputId": "370c3271-3d6c-42f5-8364-817f652d31cc"
      },
      "id": "FC2Nq6cFcj0S",
      "execution_count": 124,
      "outputs": [
        {
          "output_type": "stream",
          "name": "stdout",
          "text": [
            "Optimization terminated successfully.\n",
            "         Current function value: 0.563068\n",
            "         Iterations 5\n",
            "                           Logit Regression Results                           \n",
            "==============================================================================\n",
            "Dep. Variable:           held_wo_bail   No. Observations:                22986\n",
            "Model:                          Logit   Df Residuals:                    22983\n",
            "Method:                           MLE   Df Model:                            2\n",
            "Date:                Tue, 14 Nov 2023   Pseudo R-squ.:                 0.01560\n",
            "Time:                        23:41:18   Log-Likelihood:                -12943.\n",
            "converged:                       True   LL-Null:                       -13148.\n",
            "Covariance Type:            nonrobust   LLR p-value:                 8.428e-90\n",
            "==============================================================================\n",
            "                 coef    std err          z      P>|z|      [0.025      0.975]\n",
            "------------------------------------------------------------------------------\n",
            "const         -1.0576      0.022    -47.667      0.000      -1.101      -1.014\n",
            "Black          0.3492      0.031     11.422      0.000       0.289       0.409\n",
            "sex_dummy     -0.5725      0.037    -15.590      0.000      -0.645      -0.501\n",
            "==============================================================================\n",
            "Slope Coefficient (Black): 0.34919786400267316\n",
            "Odds Ratio (Black): 1.4179297198376029\n",
            "Slope Coefficient (Sex): -0.5725330016691472\n",
            "Odds Ratio (Sex): 0.5640947745216812\n"
          ]
        }
      ]
    },
    {
      "cell_type": "code",
      "source": [
        "df_temp['is_poor'] = pd.to_numeric(df_temp['is_poor'])\n",
        "df_temp['is_poor'].unique()\n"
      ],
      "metadata": {
        "colab": {
          "base_uri": "https://localhost:8080/"
        },
        "id": "c9Mj0wSnfwGk",
        "outputId": "73d047c0-7fe0-4a4c-8299-9c77153034c5"
      },
      "id": "c9Mj0wSnfwGk",
      "execution_count": 129,
      "outputs": [
        {
          "output_type": "execute_result",
          "data": {
            "text/plain": [
              "array([nan,  0.,  1.])"
            ]
          },
          "metadata": {},
          "execution_count": 129
        }
      ]
    },
    {
      "cell_type": "code",
      "source": [
        "np.random.seed(42)  # Set a seed for reproducibility\n",
        "replace_probabilities = [0.49, 0.51]  # Probability of replacing with 0 and 1\n",
        "\n",
        "df_temp['is_poor'] = df_temp['is_poor'].apply(lambda x: np.random.choice([0, 1], p=replace_probabilities) if pd.isna(x) else x)\n"
      ],
      "metadata": {
        "id": "yMMcrFdmOqzg"
      },
      "id": "yMMcrFdmOqzg",
      "execution_count": 130,
      "outputs": []
    },
    {
      "cell_type": "code",
      "source": [
        "X = sm.add_constant(df_temp[['Black', 'sex_dummy', 'is_poor']])\n",
        "\n",
        "# Fit logistic regression model\n",
        "model = sm.Logit(df_temp['held_wo_bail'], X)\n",
        "result = model.fit()\n",
        "\n",
        "# Display model summary\n",
        "print(result.summary())\n",
        "\n",
        "# Accessing the slope coefficients\n",
        "slope_black = result.params['Black']\n",
        "slope_sex = result.params['sex_dummy']\n",
        "slope_is_poor = result.params['is_poor']\n",
        "\n",
        "# Calculate odds ratios\n",
        "odds_ratio_black = np.exp(slope_black)\n",
        "odds_ratio_sex = np.exp(slope_sex)\n",
        "odds_ratio_is_poor = np.exp(slope_is_poor)\n",
        "\n",
        "# Interpretation of the coefficients\n",
        "print(f\"Slope Coefficient (Black): {slope_black}\")\n",
        "print(f\"Odds Ratio (Black): {odds_ratio_black}\")\n",
        "\n",
        "print(f\"Slope Coefficient (Sex): {slope_sex}\")\n",
        "print(f\"Odds Ratio (Sex): {odds_ratio_sex}\")\n",
        "\n",
        "print(f\"Slope Coefficient (is_poor): {slope_is_poor}\")\n",
        "print(f\"Odds Ratio (is_poor): {odds_ratio_is_poor}\")"
      ],
      "metadata": {
        "colab": {
          "base_uri": "https://localhost:8080/"
        },
        "id": "gWYNr8qTg5ZH",
        "outputId": "ef5ad368-ab16-4a64-b01e-1ae5c2663bfd"
      },
      "id": "gWYNr8qTg5ZH",
      "execution_count": 131,
      "outputs": [
        {
          "output_type": "stream",
          "name": "stdout",
          "text": [
            "Optimization terminated successfully.\n",
            "         Current function value: 0.542336\n",
            "         Iterations 6\n",
            "                           Logit Regression Results                           \n",
            "==============================================================================\n",
            "Dep. Variable:           held_wo_bail   No. Observations:                22986\n",
            "Model:                          Logit   Df Residuals:                    22982\n",
            "Method:                           MLE   Df Model:                            3\n",
            "Date:                Tue, 14 Nov 2023   Pseudo R-squ.:                 0.05185\n",
            "Time:                        23:46:51   Log-Likelihood:                -12466.\n",
            "converged:                       True   LL-Null:                       -13148.\n",
            "Covariance Type:            nonrobust   LLR p-value:                2.684e-295\n",
            "==============================================================================\n",
            "                 coef    std err          z      P>|z|      [0.025      0.975]\n",
            "------------------------------------------------------------------------------\n",
            "const         -1.4979      0.028    -53.591      0.000      -1.553      -1.443\n",
            "Black          0.2228      0.031      7.076      0.000       0.161       0.284\n",
            "sex_dummy     -0.6618      0.038    -17.627      0.000      -0.735      -0.588\n",
            "is_poor        0.9656      0.032     30.244      0.000       0.903       1.028\n",
            "==============================================================================\n",
            "Slope Coefficient (Black): 0.22277842044078297\n",
            "Odds Ratio (Black): 1.2495436697234226\n",
            "Slope Coefficient (Sex): -0.6617980305002324\n",
            "Odds Ratio (Sex): 0.5159228549955649\n",
            "Slope Coefficient (is_poor): 0.9655589646712497\n",
            "Odds Ratio (is_poor): 2.626255230166789\n"
          ]
        }
      ]
    },
    {
      "cell_type": "code",
      "source": [
        "df_temp['felony_dummy'] = df_temp['prior_F'].apply(lambda x: 1 if x > 0 else 0)"
      ],
      "metadata": {
        "id": "7iIo9J9HO0g-"
      },
      "id": "7iIo9J9HO0g-",
      "execution_count": 135,
      "outputs": []
    },
    {
      "cell_type": "code",
      "source": [
        "X = sm.add_constant(df_temp[['Black', 'sex_dummy', 'is_poor', 'felony_dummy']])\n",
        "\n",
        "# Fit logistic regression model\n",
        "model = sm.Logit(df_temp['held_wo_bail'], X)\n",
        "result = model.fit()\n",
        "\n",
        "# Display model summary\n",
        "print(result.summary())\n",
        "\n",
        "# Accessing the slope coefficients\n",
        "slope_black = result.params['Black']\n",
        "slope_sex = result.params['sex_dummy']\n",
        "slope_is_poor = result.params['is_poor']\n",
        "slope_prior_F = result.params['felony_dummy']\n",
        "\n",
        "# Calculate odds ratios\n",
        "odds_ratio_black = np.exp(slope_black)\n",
        "odds_ratio_sex = np.exp(slope_sex)\n",
        "odds_ratio_is_poor = np.exp(slope_is_poor)\n",
        "odds_ratio_prior_F = np.exp(slope_prior_F)\n",
        "\n",
        "# Interpretation of the coefficients\n",
        "print(f\"Slope Coefficient (Black): {slope_black}\")\n",
        "print(f\"Odds Ratio (Black): {odds_ratio_black}\")\n",
        "\n",
        "print(f\"Slope Coefficient (Sex): {slope_sex}\")\n",
        "print(f\"Odds Ratio (Sex): {odds_ratio_sex}\")\n",
        "\n",
        "print(f\"Slope Coefficient (is_poor): {slope_is_poor}\")\n",
        "print(f\"Odds Ratio (is_poor): {odds_ratio_is_poor}\")\n",
        "\n",
        "print(f\"Slope Coefficient (prior_F): {slope_prior_F}\")\n",
        "print(f\"Odds Ratio (prior_F): {odds_ratio_prior_F}\")"
      ],
      "metadata": {
        "colab": {
          "base_uri": "https://localhost:8080/"
        },
        "id": "Vfs4SpEhPbAQ",
        "outputId": "f30760be-4cfe-4833-c6b7-6ab5e5261041"
      },
      "id": "Vfs4SpEhPbAQ",
      "execution_count": 136,
      "outputs": [
        {
          "output_type": "stream",
          "name": "stdout",
          "text": [
            "Optimization terminated successfully.\n",
            "         Current function value: 0.509380\n",
            "         Iterations 6\n",
            "                           Logit Regression Results                           \n",
            "==============================================================================\n",
            "Dep. Variable:           held_wo_bail   No. Observations:                22986\n",
            "Model:                          Logit   Df Residuals:                    22981\n",
            "Method:                           MLE   Df Model:                            4\n",
            "Date:                Tue, 14 Nov 2023   Pseudo R-squ.:                  0.1095\n",
            "Time:                        23:53:31   Log-Likelihood:                -11709.\n",
            "converged:                       True   LL-Null:                       -13148.\n",
            "Covariance Type:            nonrobust   LLR p-value:                     0.000\n",
            "================================================================================\n",
            "                   coef    std err          z      P>|z|      [0.025      0.975]\n",
            "--------------------------------------------------------------------------------\n",
            "const           -1.8838      0.032    -59.761      0.000      -1.946      -1.822\n",
            "Black            0.1186      0.033      3.611      0.000       0.054       0.183\n",
            "sex_dummy       -0.5142      0.039    -13.213      0.000      -0.590      -0.438\n",
            "is_poor          0.8471      0.033     25.602      0.000       0.782       0.912\n",
            "felony_dummy     1.2844      0.033     38.857      0.000       1.220       1.349\n",
            "================================================================================\n",
            "Slope Coefficient (Black): 0.11860237167729916\n",
            "Odds Ratio (Black): 1.1259221307394092\n",
            "Slope Coefficient (Sex): -0.5141599479732524\n",
            "Odds Ratio (Sex): 0.5980027370870992\n",
            "Slope Coefficient (is_poor): 0.8471471252331448\n",
            "Odds Ratio (is_poor): 2.3329816444804656\n",
            "Slope Coefficient (prior_F): 1.28441515660487\n",
            "Odds Ratio (prior_F): 3.612554560600347\n"
          ]
        }
      ]
    },
    {
      "cell_type": "code",
      "source": [
        "df_temp['case_type_dummy'] = df_temp['case_type'].apply(lambda x: 1 if x == 'F' else 0)"
      ],
      "metadata": {
        "id": "uhwhfEKEQDB4"
      },
      "id": "uhwhfEKEQDB4",
      "execution_count": 137,
      "outputs": []
    },
    {
      "cell_type": "code",
      "source": [
        "X = sm.add_constant(df_temp[['Black', 'sex_dummy', 'is_poor', 'felony_dummy', 'case_type_dummy']])\n",
        "\n",
        "# Fit logistic regression model\n",
        "model = sm.Logit(df_temp['held_wo_bail'], X)\n",
        "result = model.fit()\n",
        "\n",
        "# Display model summary\n",
        "print(result.summary())\n",
        "\n",
        "# Accessing the slope coefficients\n",
        "slope_black = result.params['Black']\n",
        "slope_sex = result.params['sex_dummy']\n",
        "slope_is_poor = result.params['is_poor']\n",
        "slope_prior_F = result.params['felony_dummy']\n",
        "slope_case_type_dummy = result.params['case_type_dummy']\n",
        "\n",
        "# Calculate odds ratios\n",
        "odds_ratio_black = np.exp(slope_black)\n",
        "odds_ratio_sex = np.exp(slope_sex)\n",
        "odds_ratio_is_poor = np.exp(slope_is_poor)\n",
        "odds_ratio_prior_F = np.exp(slope_prior_F)\n",
        "odds_ratio_case_type_dummy = np.exp(slope_case_type_dummy)\n",
        "\n",
        "\n",
        "# Interpretation of the coefficients\n",
        "print(f\"Slope Coefficient (Black): {slope_black}\")\n",
        "print(f\"Odds Ratio (Black): {odds_ratio_black}\")\n",
        "\n",
        "print(f\"Slope Coefficient (Sex): {slope_sex}\")\n",
        "print(f\"Odds Ratio (Sex): {odds_ratio_sex}\")\n",
        "\n",
        "print(f\"Slope Coefficient (is_poor): {slope_is_poor}\")\n",
        "print(f\"Odds Ratio (is_poor): {odds_ratio_is_poor}\")\n",
        "\n",
        "print(f\"Slope Coefficient (prior_F): {slope_case_type_dummy}\")\n",
        "print(f\"Odds Ratio (prior_F): {odds_ratio_case_type_dummy}\")"
      ],
      "metadata": {
        "colab": {
          "base_uri": "https://localhost:8080/"
        },
        "id": "1wtpVnE_QTz8",
        "outputId": "c89c2384-c792-4273-94c5-394839bed00f"
      },
      "id": "1wtpVnE_QTz8",
      "execution_count": 138,
      "outputs": [
        {
          "output_type": "stream",
          "name": "stdout",
          "text": [
            "Optimization terminated successfully.\n",
            "         Current function value: 0.445199\n",
            "         Iterations 6\n",
            "                           Logit Regression Results                           \n",
            "==============================================================================\n",
            "Dep. Variable:           held_wo_bail   No. Observations:                22986\n",
            "Model:                          Logit   Df Residuals:                    22980\n",
            "Method:                           MLE   Df Model:                            5\n",
            "Date:                Tue, 14 Nov 2023   Pseudo R-squ.:                  0.2217\n",
            "Time:                        23:54:44   Log-Likelihood:                -10233.\n",
            "converged:                       True   LL-Null:                       -13148.\n",
            "Covariance Type:            nonrobust   LLR p-value:                     0.000\n",
            "===================================================================================\n",
            "                      coef    std err          z      P>|z|      [0.025      0.975]\n",
            "-----------------------------------------------------------------------------------\n",
            "const              -2.4027      0.037    -65.512      0.000      -2.475      -2.331\n",
            "Black               0.1457      0.036      4.087      0.000       0.076       0.216\n",
            "sex_dummy          -0.5661      0.042    -13.454      0.000      -0.649      -0.484\n",
            "is_poor             0.5813      0.036     16.135      0.000       0.511       0.652\n",
            "felony_dummy        1.0154      0.036     28.179      0.000       0.945       1.086\n",
            "case_type_dummy     1.8748      0.035     52.933      0.000       1.805       1.944\n",
            "===================================================================================\n",
            "Slope Coefficient (Black): 0.14568672850063802\n",
            "Odds Ratio (Black): 1.1568337282430377\n",
            "Slope Coefficient (Sex): -0.5661453047502907\n",
            "Odds Ratio (Sex): 0.567709573804844\n",
            "Slope Coefficient (is_poor): 0.5813474868742432\n",
            "Odds Ratio (is_poor): 1.7884467162945854\n",
            "Slope Coefficient (prior_F): 1.8748369317168831\n",
            "Odds Ratio (prior_F): 6.519755868245347\n"
          ]
        }
      ]
    },
    {
      "cell_type": "code",
      "source": [
        "#every time another variable is added the coefficient for Black decreases"
      ],
      "metadata": {
        "id": "OYn0-m_SQyTR"
      },
      "id": "OYn0-m_SQyTR",
      "execution_count": null,
      "outputs": []
    },
    {
      "cell_type": "code",
      "source": [
        "#5\n",
        "df_sex_F = df_temp[df_temp['sex_dummy'] == 1]\n",
        "df_sex_M = df_temp[df_temp['sex_dummy'] == 0]"
      ],
      "metadata": {
        "id": "_NJfnLg3RPF6"
      },
      "id": "_NJfnLg3RPF6",
      "execution_count": 139,
      "outputs": []
    },
    {
      "cell_type": "code",
      "source": [
        "X = sm.add_constant(df_sex_F['Black'])\n",
        "\n",
        "# Fit logistic regression model\n",
        "model = sm.Logit(df_sex_F['held_wo_bail'], X)\n",
        "result = model.fit()\n",
        "\n",
        "# Display model summary\n",
        "print(result.summary())\n",
        "\n",
        "# Accessing the slope coefficient\n",
        "slope_coefficient = result.params['Black']\n",
        "\n",
        "# Calculate odds ratio\n",
        "odds_ratio = np.exp(slope_coefficient)\n",
        "\n",
        "# Interpretation of the coefficient\n",
        "print(f\"Slope Coefficient: {slope_coefficient}\")\n",
        "print(f\"Odds Ratio: {odds_ratio}\")"
      ],
      "metadata": {
        "colab": {
          "base_uri": "https://localhost:8080/"
        },
        "id": "WSH8A63ERaZh",
        "outputId": "1b020cb0-19c8-42d9-ff94-a38e93511320"
      },
      "id": "WSH8A63ERaZh",
      "execution_count": 140,
      "outputs": [
        {
          "output_type": "stream",
          "name": "stdout",
          "text": [
            "Optimization terminated successfully.\n",
            "         Current function value: 0.475622\n",
            "         Iterations 5\n",
            "                           Logit Regression Results                           \n",
            "==============================================================================\n",
            "Dep. Variable:           held_wo_bail   No. Observations:                 6396\n",
            "Model:                          Logit   Df Residuals:                     6394\n",
            "Method:                           MLE   Df Model:                            1\n",
            "Date:                Tue, 14 Nov 2023   Pseudo R-squ.:               0.0003795\n",
            "Time:                        23:59:12   Log-Likelihood:                -3042.1\n",
            "converged:                       True   LL-Null:                       -3043.2\n",
            "Covariance Type:            nonrobust   LLR p-value:                    0.1285\n",
            "==============================================================================\n",
            "                 coef    std err          z      P>|z|      [0.025      0.975]\n",
            "------------------------------------------------------------------------------\n",
            "const         -1.4606      0.040    -36.631      0.000      -1.539      -1.382\n",
            "Black         -0.1033      0.068     -1.515      0.130      -0.237       0.030\n",
            "==============================================================================\n",
            "Slope Coefficient: -0.10329416987711419\n",
            "Odds Ratio: 0.9018616339299511\n"
          ]
        }
      ]
    },
    {
      "cell_type": "code",
      "source": [
        "X = sm.add_constant(df_sex_M['Black'])\n",
        "\n",
        "# Fit logistic regression model\n",
        "model = sm.Logit(df_sex_M['held_wo_bail'], X)\n",
        "result = model.fit()\n",
        "\n",
        "# Display model summary\n",
        "print(result.summary())\n",
        "\n",
        "# Accessing the slope coefficient\n",
        "slope_coefficient = result.params['Black']\n",
        "\n",
        "# Calculate odds ratio\n",
        "odds_ratio = np.exp(slope_coefficient)\n",
        "\n",
        "# Interpretation of the coefficient\n",
        "print(f\"Slope Coefficient: {slope_coefficient}\")\n",
        "print(f\"Odds Ratio: {odds_ratio}\")"
      ],
      "metadata": {
        "colab": {
          "base_uri": "https://localhost:8080/"
        },
        "id": "5478phkvRnDE",
        "outputId": "e5ba90a2-c02b-46df-fc57-960a99d88211"
      },
      "id": "5478phkvRnDE",
      "execution_count": 141,
      "outputs": [
        {
          "output_type": "stream",
          "name": "stdout",
          "text": [
            "Optimization terminated successfully.\n",
            "         Current function value: 0.595052\n",
            "         Iterations 5\n",
            "                           Logit Regression Results                           \n",
            "==============================================================================\n",
            "Dep. Variable:           held_wo_bail   No. Observations:                16590\n",
            "Model:                          Logit   Df Residuals:                    16588\n",
            "Method:                           MLE   Df Model:                            1\n",
            "Date:                Tue, 14 Nov 2023   Pseudo R-squ.:                0.009284\n",
            "Time:                        23:59:28   Log-Likelihood:                -9871.9\n",
            "converged:                       True   LL-Null:                       -9964.4\n",
            "Covariance Type:            nonrobust   LLR p-value:                 3.890e-42\n",
            "==============================================================================\n",
            "                 coef    std err          z      P>|z|      [0.025      0.975]\n",
            "------------------------------------------------------------------------------\n",
            "const         -1.1136      0.024    -46.996      0.000      -1.160      -1.067\n",
            "Black          0.4696      0.035     13.599      0.000       0.402       0.537\n",
            "==============================================================================\n",
            "Slope Coefficient: 0.4696105740034719\n",
            "Odds Ratio: 1.5993712351901255\n"
          ]
        }
      ]
    },
    {
      "cell_type": "code",
      "source": [
        "#clearly there is a big difference between how black men and black women are treated based on women having a negitive coefficient and men having a large positive coeffient"
      ],
      "metadata": {
        "id": "Q4sNG7u4RvCl"
      },
      "id": "Q4sNG7u4RvCl",
      "execution_count": null,
      "outputs": []
    },
    {
      "cell_type": "code",
      "source": [
        "#7\n"
      ],
      "metadata": {
        "id": "UfvqOWYgR597"
      },
      "id": "UfvqOWYgR597",
      "execution_count": null,
      "outputs": []
    },
    {
      "cell_type": "markdown",
      "source": [
        "simply put corilation does not equal causation. Just because there is a trend does not meen that it is because an individual is a black make that he is held without bond. There can be many other confounding reasons/variables. For example; the socio-economic situation many minority groups are subjected to in America can lead to higher crime rate. Data is very good at showing trends but not the root causes, this is why, as a society, we should ask why this is happening and not simply changing the way we issue bonds. This data clearly shows a problem, but it could be anywhere and anything, not neciserily racist judges issuing biassed opinions."
      ],
      "metadata": {
        "id": "SVLQ8M28SPij"
      },
      "id": "SVLQ8M28SPij"
    },
    {
      "cell_type": "markdown",
      "source": [
        "Ok why was that actually fun, DATA IS FUN"
      ],
      "metadata": {
        "id": "_Bly5-plforY"
      },
      "id": "_Bly5-plforY"
    },
    {
      "cell_type": "markdown",
      "id": "d0bedb79-b3d9-4db3-9b30-b92c9b618cec",
      "metadata": {
        "id": "d0bedb79-b3d9-4db3-9b30-b92c9b618cec"
      },
      "source": [
        "**Q5.** This is a math question to review the derivation of the OLS estimator (but only if you are into that kind of thing!). We are going to do it slightly differently from what we did in class, though. We will use a linear predictor and minimize the Sum of Squared Errors, just as in class. But, we are going to de-mean $X$ first, creating another variable $z_i = x_i - \\bar{x}$ where\n",
        "$$\n",
        "\\bar{x} = \\dfrac{1}{N} \\sum_{i=1}^N x_i,\n",
        "$$\n",
        "so the model is $\\hat{y}_i = a + b z_i$ and the `SSE` is\n",
        "$$\n",
        "\\text{SSE}(a,b) = \\sum_{i=1}^N (y_i - a - bz_i)^2.\n",
        "$$\n",
        "\n",
        "  1. Take partial derivatives of the `SSE` with respect to $a$ and $b$. You should get\n",
        "\n",
        "\\begin{eqnarray*}\n",
        "\\sum_{i=1}^N -2(y_i - a- bz_i) &=& 0 \\\\\n",
        "\\sum_{i=1}^N -2(y_i - a - bz_i)z_i &=& 0.\n",
        "\\end{eqnarray*}\n",
        "\n",
        "  2. Solve for the solutions to the above equations. Big hint: $\\bar{z} = 0$, since we subtracted the mean of $x$ from $x$ to get $z$. You should get\n",
        "\n",
        "\\begin{eqnarray*}\n",
        "a^* &=& \\bar{y} \\\\\n",
        "b^* &=& \\dfrac{\\sum_{i=1}^N(y_i - \\bar{y})z_i}{\\sum_{i=1}^N z_i^2}.\n",
        "\\end{eqnarray*}\n",
        "\n",
        "  3. Substitute $z_i = x_i - \\bar{x}$ back into the above equations. You should get\n",
        "  \n",
        "\\begin{eqnarray*}\n",
        "a^* &=& \\bar{y} \\\\\n",
        "b^* &=& \\dfrac{\\sum_{i=1}^N(y_i - \\bar{y})(x_i-\\bar{x})}{\\sum_{i=1}^N (x_i-\\bar{x})^2},\n",
        "\\end{eqnarray*}\n",
        "\n",
        "which can be written in terms of sample covariance and sample variance as:\n",
        "\n",
        "\\begin{eqnarray*}\n",
        "a^* &=& \\bar{y} \\\\\n",
        "b^* &=& \\dfrac{\\text{cov}(x,y)}{\\text{var}(x)}.\n",
        "\\end{eqnarray*}\n",
        "\n",
        "This is typically the preferred way of expressing the OLS coefficients.\n",
        "\n",
        "4. When will $b^*$ be large or small, depending on the relationship between $x$ and $y$ and the amount of \"noise\"/variance in $x$? What does $a^*$ represent?\n",
        "5. Suppose you have measurement error in $x$ which artificially inflates its variance (e.g. bad data cleaning). What happens to the $b^*$ coefficient? How will affect your ability to predict? (This phenomenon is called **attenuation**.)\n",
        "6. Let's return to the question of *outliers*. With your formula for the OLS coefficients $(a^*,b^*)$, explain what happens if you significantly increase a single value of the outcome/target/response variable $y_i$ or one of the predictor/explanatory/covariate variables $x_i$. If values for some extreme observations are exerting significant influence over the regression coefficients, will the model perform well on for more average observations?"
      ]
    }
  ],
  "metadata": {
    "kernelspec": {
      "display_name": "Python 3 (ipykernel)",
      "language": "python",
      "name": "python3"
    },
    "language_info": {
      "codemirror_mode": {
        "name": "ipython",
        "version": 3
      },
      "file_extension": ".py",
      "mimetype": "text/x-python",
      "name": "python",
      "nbconvert_exporter": "python",
      "pygments_lexer": "ipython3",
      "version": "3.11.4"
    },
    "colab": {
      "provenance": [],
      "include_colab_link": true
    }
  },
  "nbformat": 4,
  "nbformat_minor": 5
}